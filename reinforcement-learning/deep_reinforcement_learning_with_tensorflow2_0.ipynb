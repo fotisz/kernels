{
  "nbformat": 4,
  "nbformat_minor": 0,
  "metadata": {
    "colab": {
      "name": "deep reinforcement learning with tensorflow2.0",
      "version": "0.3.2",
      "provenance": []
    },
    "kernelspec": {
      "name": "python3",
      "display_name": "Python 3"
    }
  },
  "cells": [
    {
      "cell_type": "code",
      "metadata": {
        "id": "n0YZZ_KGhmmE",
        "colab_type": "code",
        "colab": {
          "base_uri": "https://localhost:8080/",
          "height": 507
        },
        "outputId": "972bf26f-6a90-4e04-9777-5abeae6e6d09"
      },
      "source": [
        "!pip install tf-nightly-2.0-preview"
      ],
      "execution_count": 1,
      "outputs": [
        {
          "output_type": "stream",
          "text": [
            "Collecting tf-nightly-2.0-preview\n",
            "\u001b[?25l  Downloading https://files.pythonhosted.org/packages/ae/38/32e8d07e1c8d8e9226f2da86c6740d62eb2c3746f7b07343b414311c3db6/tf_nightly_2.0_preview-2.0.0.dev20190623-cp36-cp36m-manylinux1_x86_64.whl (79.2MB)\n",
            "\u001b[K     |████████████████████████████████| 79.2MB 370kB/s \n",
            "\u001b[?25hRequirement already satisfied: numpy<2.0,>=1.14.5 in /usr/local/lib/python3.6/dist-packages (from tf-nightly-2.0-preview) (1.16.4)\n",
            "Requirement already satisfied: six>=1.10.0 in /usr/local/lib/python3.6/dist-packages (from tf-nightly-2.0-preview) (1.12.0)\n",
            "Requirement already satisfied: absl-py>=0.7.0 in /usr/local/lib/python3.6/dist-packages (from tf-nightly-2.0-preview) (0.7.1)\n",
            "Requirement already satisfied: wrapt>=1.11.1 in /usr/local/lib/python3.6/dist-packages (from tf-nightly-2.0-preview) (1.11.1)\n",
            "Requirement already satisfied: google-pasta>=0.1.6 in /usr/local/lib/python3.6/dist-packages (from tf-nightly-2.0-preview) (0.1.7)\n",
            "Requirement already satisfied: termcolor>=1.1.0 in /usr/local/lib/python3.6/dist-packages (from tf-nightly-2.0-preview) (1.1.0)\n",
            "Requirement already satisfied: keras-applications>=1.0.8 in /usr/local/lib/python3.6/dist-packages (from tf-nightly-2.0-preview) (1.0.8)\n",
            "Requirement already satisfied: grpcio>=1.8.6 in /usr/local/lib/python3.6/dist-packages (from tf-nightly-2.0-preview) (1.15.0)\n",
            "Requirement already satisfied: protobuf>=3.6.1 in /usr/local/lib/python3.6/dist-packages (from tf-nightly-2.0-preview) (3.7.1)\n",
            "Requirement already satisfied: keras-preprocessing>=1.0.5 in /usr/local/lib/python3.6/dist-packages (from tf-nightly-2.0-preview) (1.1.0)\n",
            "Collecting tb-nightly<1.15.0a0,>=1.14.0a0 (from tf-nightly-2.0-preview)\n",
            "\u001b[?25l  Downloading https://files.pythonhosted.org/packages/3a/60/afa129c3621d62c885599076f8e89737d66e5dfffad1a08842b1c11b4540/tb_nightly-1.14.0a20190614-py3-none-any.whl (3.1MB)\n",
            "\u001b[K     |████████████████████████████████| 3.2MB 33.5MB/s \n",
            "\u001b[?25hCollecting tensorflow-estimator-2.0-preview (from tf-nightly-2.0-preview)\n",
            "\u001b[?25l  Downloading https://files.pythonhosted.org/packages/c4/a5/5545aa45716798ded42f356ab125519ffb31244e620fa8dc8cbf29bcd0fe/tensorflow_estimator_2.0_preview-1.14.0.dev2019062300-py2.py3-none-any.whl (446kB)\n",
            "\u001b[K     |████████████████████████████████| 450kB 47.0MB/s \n",
            "\u001b[?25hRequirement already satisfied: wheel>=0.26 in /usr/local/lib/python3.6/dist-packages (from tf-nightly-2.0-preview) (0.33.4)\n",
            "Requirement already satisfied: astor>=0.6.0 in /usr/local/lib/python3.6/dist-packages (from tf-nightly-2.0-preview) (0.8.0)\n",
            "Requirement already satisfied: gast>=0.2.0 in /usr/local/lib/python3.6/dist-packages (from tf-nightly-2.0-preview) (0.2.2)\n",
            "Requirement already satisfied: h5py in /usr/local/lib/python3.6/dist-packages (from keras-applications>=1.0.8->tf-nightly-2.0-preview) (2.8.0)\n",
            "Requirement already satisfied: setuptools in /usr/local/lib/python3.6/dist-packages (from protobuf>=3.6.1->tf-nightly-2.0-preview) (41.0.1)\n",
            "Requirement already satisfied: werkzeug>=0.11.15 in /usr/local/lib/python3.6/dist-packages (from tb-nightly<1.15.0a0,>=1.14.0a0->tf-nightly-2.0-preview) (0.15.4)\n",
            "Requirement already satisfied: markdown>=2.6.8 in /usr/local/lib/python3.6/dist-packages (from tb-nightly<1.15.0a0,>=1.14.0a0->tf-nightly-2.0-preview) (3.1.1)\n",
            "Installing collected packages: tb-nightly, tensorflow-estimator-2.0-preview, tf-nightly-2.0-preview\n",
            "Successfully installed tb-nightly-1.14.0a20190614 tensorflow-estimator-2.0-preview-1.14.0.dev2019062300 tf-nightly-2.0-preview-2.0.0.dev20190623\n"
          ],
          "name": "stdout"
        }
      ]
    },
    {
      "cell_type": "markdown",
      "metadata": {
        "id": "zurwVM_Rkxgz",
        "colab_type": "text"
      },
      "source": [
        "reference: https://medium.com/@Inoryy/deep-reinforcement-learning-with-tensorflow-2-0-d8e62102680d"
      ]
    },
    {
      "cell_type": "code",
      "metadata": {
        "id": "z6ZEXub2hzux",
        "colab_type": "code",
        "colab": {
          "base_uri": "https://localhost:8080/",
          "height": 50
        },
        "outputId": "ecf94430-79fa-439b-ef89-f1342222c676"
      },
      "source": [
        "import tensorflow as tf\n",
        "print(tf.__version__)\n",
        "print(tf.executing_eagerly())"
      ],
      "execution_count": 2,
      "outputs": [
        {
          "output_type": "stream",
          "text": [
            "2.0.0-dev20190623\n",
            "True\n"
          ],
          "name": "stdout"
        }
      ]
    },
    {
      "cell_type": "code",
      "metadata": {
        "id": "TKIeNfdl2PXW",
        "colab_type": "code",
        "colab": {}
      },
      "source": [
        "import matplotlib\n",
        "import matplotlib.pyplot as plt\n",
        "%matplotlib inline  "
      ],
      "execution_count": 0,
      "outputs": []
    },
    {
      "cell_type": "code",
      "metadata": {
        "id": "1dnoi-qZiGt3",
        "colab_type": "code",
        "colab": {
          "base_uri": "https://localhost:8080/",
          "height": 34
        },
        "outputId": "31429a78-8406-4800-993d-fee50ef1f3c0"
      },
      "source": [
        "print(tf.reduce_sum([1, 2, 3, 4, 5]))"
      ],
      "execution_count": 3,
      "outputs": [
        {
          "output_type": "stream",
          "text": [
            "tf.Tensor(15, shape=(), dtype=int32)\n"
          ],
          "name": "stdout"
        }
      ]
    },
    {
      "cell_type": "code",
      "metadata": {
        "id": "RsackV8fiQve",
        "colab_type": "code",
        "colab": {}
      },
      "source": [
        "import numpy as np\n",
        "import logging\n",
        "import tensorflow as tf\n",
        "import tensorflow.keras.layers as kl\n",
        "\n",
        "class ProbabilityDistribution(tf.keras.Model):\n",
        "  def call(self, logits):\n",
        "    # return a sample categorical action from given logits\n",
        "    return tf.squeeze(tf.random.categorical(logits, 1), axis=-1)\n",
        "  \n",
        "class Model(tf.keras.Model):\n",
        "  def __init__(self, num_actions):\n",
        "    super().__init__('mlp_policy')\n",
        "    # no tf.variable() just simple keras api\n",
        "    self.hidden1 = kl.Dense(128, activation='relu')\n",
        "    self.hidden2 = kl.Dense(128, activation='relu')\n",
        "    self.value = kl.Dense(1, name='value')\n",
        "    # logits are unnormalised log probabilities\n",
        "    self.logits = kl.Dense(num_actions, name='policy_logits')\n",
        "    self.dist = ProbabilityDistribution()\n",
        "    \n",
        "  def call(self, inputs):\n",
        "    # inputs is a numpy array convert to tensor\n",
        "    x = tf.convert_to_tensor(inputs, dtype=tf.float32)\n",
        "    # separate input tensor for the same input tensor\n",
        "    hidden_logs = self.hidden1(x)\n",
        "    hidden_vals = self.hidden2(x)\n",
        "    return self.logits(hidden_logs), self.value(hidden_vals)\n",
        "  \n",
        "  def action_value(self, obs):\n",
        "    # executes call under the hood\n",
        "    logits, value = self.predict(obs)\n",
        "    action = self.dist.predict(logits)\n",
        "    # simpler option will be clear below why we dont use it\n",
        "    # action = tf.random.categorical(logits, 1)\n",
        "    return np.squeeze(action, axis=-1), np.squeeze(value, axis=-1)"
      ],
      "execution_count": 0,
      "outputs": []
    },
    {
      "cell_type": "code",
      "metadata": {
        "id": "2TEXjVCEjbPA",
        "colab_type": "code",
        "colab": {
          "base_uri": "https://localhost:8080/",
          "height": 34
        },
        "outputId": "cbd51b6a-fc78-4dbf-beb5-9be5a70ba28c"
      },
      "source": [
        "import gym\n",
        "\n",
        "env = gym.make('CartPole-v0')\n",
        "\n",
        "model = Model(num_actions=env.action_space.n)\n",
        "\n",
        "obs = env.reset()\n",
        "# no feed_dict or tf.Session() needed at all\n",
        "action, value = model.action_value(obs[None, :])\n",
        "\n",
        "print(action, value)"
      ],
      "execution_count": 7,
      "outputs": [
        {
          "output_type": "stream",
          "text": [
            "0 [0.00716775]\n"
          ],
          "name": "stdout"
        }
      ]
    },
    {
      "cell_type": "code",
      "metadata": {
        "id": "MEdQphgWmyBZ",
        "colab_type": "code",
        "colab": {}
      },
      "source": [
        "import tensorflow.keras.losses as kls\n",
        "import tensorflow.keras.optimizers as ko\n",
        "\n",
        "class A2CAgent:\n",
        "  def __init__(self, model):\n",
        "    # hyperparameters for loss terms\n",
        "    self.params = {'value': 0.5, 'entropy': 0.0001, 'gamma': 0.99}\n",
        "    self.model = model\n",
        "    self.model.compile(\n",
        "        optimizer = ko.RMSprop(lr=0.0007),\n",
        "        # define separte losses for policy logits and value estimate\n",
        "        loss = [self._logits_loss, self._value_loss]\n",
        "    )\n",
        "    \n",
        "  def train(self, env, batch_sz=32, updates=1000):\n",
        "    # storage helpers for a single batch of data\n",
        "    actions = np.empty((batch_sz,), dtype=np.int32)\n",
        "    rewards, dones, values = np.empty((3, batch_sz))\n",
        "    observations = np.empty((batch_sz,) + env.observation_space.shape)\n",
        "    # training loop: collect samples, sent to optimizer, train\n",
        "    ep_rews = [0.0]\n",
        "    next_obs = env.reset()\n",
        "    for update in range(updates):\n",
        "      for step in range(batch_sz):\n",
        "        observations[step] = next_obs.copy()\n",
        "        actions[step], values[step] = self.model.action_value(next_obs[None, :])\n",
        "        next_obs, rewards[step], dones[step], _ = env.step(actions[step])\n",
        "        ep_rews[-1] += rewards[step]\n",
        "        if dones[step]:\n",
        "          ep_rews.append(0.0)\n",
        "          next_obs = env.reset()\n",
        "          logging.info(\"Episode: %03d, Rewards: %03d\" % (len(ep_rews)-1, ep_rews[-2]))\n",
        "          \n",
        "      _, next_value = self.model.action_value(next_obs[None, :])\n",
        "      returns, advs = self._returns_advantages(rewards, dones, values, next_value)\n",
        "      # a trick to input actions and advantages through same API\n",
        "      acts_and_advs = np.concatenate([actions[:, None], advs[:, None]], axis=-1)\n",
        "      # performs a full training step on the collected batch\n",
        "      # note: no need to mess around with gradients, Keras API handles it.\n",
        "      losses = self.model.train_on_batch(observations, [acts_and_advs, returns])\n",
        "      logging.debug(\"[%d/%d] Losses %s\" % (update+1, updates, losses))\n",
        "    return ep_rews\n",
        "    \n",
        "  def test(self, env, render=False):\n",
        "    obs, done, ep_reward = env.reset(), False, 0\n",
        "\n",
        "    while not done:\n",
        "      action, _ = self.model.action_value(obs[None, :])\n",
        "      obs, reward, done, _ = env.step(action)\n",
        "      ep_reward += reward\n",
        "      if render:\n",
        "        env.render()\n",
        "\n",
        "    return ep_reward\n",
        "  \n",
        "  def _returns_advantages(self, rewards, dones, values, next_value):\n",
        "    # next values is the bootstrap value estimate of a future state (the critic)\n",
        "    returns = np.append(np.zeros_like(rewards), next_value, axis=-1)\n",
        "    # returns are calculated are discounted sum of future rewards\n",
        "    for t in reversed(range(rewards.shape[0])):\n",
        "      returns[t] = rewards[t] + self.params['gamma'] * returns[t+1] * (1-dones[t])\n",
        "    returns = returns[:-1]\n",
        "    # advantages are returns - baseline, value estimates in our own\n",
        "    advantages = returns - value\n",
        "    return returns, advantages\n",
        "  \n",
        "  def _value_loss(self, returns, value):\n",
        "    # value loss is typically MSE between value est and returns\n",
        "    loss = kls.mean_squared_error(returns, value)\n",
        "    return self.params['value'] * loss\n",
        "  \n",
        "  def _logits_loss(self, acts_and_advs, logits):\n",
        "    # a trick to inputs and advantages through some API\n",
        "    actions, advs = tf.split(acts_and_advs, 2, axis=-1)\n",
        "    # sparse categorical CE loss obj, supports sample weights arg\n",
        "    # from_logits arg ensures normalized probabilities\n",
        "    weight_space = kls.SparseCategoricalCrossentropy(from_logits=True)\n",
        "    # policy loss: policy gradients, weighted by advantages\n",
        "    # note: we only calculate the loss on the actionswe have taken\n",
        "    actions = tf.cast(actions, tf.int32)\n",
        "    policy_loss = weight_space(actions, logits, sample_weight=advs)\n",
        "    # entropy loss can be calculated via CE over itself\n",
        "    entropy_loss = kls.categorical_crossentropy(logits, logits, from_logits=True)\n",
        "    # here signs are flipped because optimizer minimizes\n",
        "    return policy_loss - self.params['entropy'] * entropy_loss"
      ],
      "execution_count": 0,
      "outputs": []
    },
    {
      "cell_type": "code",
      "metadata": {
        "id": "0qIMOzb3qMUz",
        "colab_type": "code",
        "colab": {
          "base_uri": "https://localhost:8080/",
          "height": 34
        },
        "outputId": "d7162474-bda0-4790-88a5-812b16143d47"
      },
      "source": [
        "agent = A2CAgent(model)\n",
        "rewards_sum = agent.test(env)\n",
        "print(\"%d out of 200\" % rewards_sum)"
      ],
      "execution_count": 38,
      "outputs": [
        {
          "output_type": "stream",
          "text": [
            "17 out of 200\n"
          ],
          "name": "stdout"
        }
      ]
    },
    {
      "cell_type": "code",
      "metadata": {
        "id": "Qg-TQq1crVwG",
        "colab_type": "code",
        "colab": {
          "base_uri": "https://localhost:8080/",
          "height": 3478
        },
        "outputId": "1dc4c516-6f32-44a2-af91-d9fad90ac27e"
      },
      "source": [
        "# set to logging.WARNING to disable logs or logging.DEBUG to see losses as well\n",
        "logging.getLogger().setLevel(logging.INFO)\n",
        "\n",
        "agent = A2CAgent(model)\n",
        "rewards_history = agent.train(env)\n",
        "print(\"Finished training, testing ...\")\n",
        "print(\"%d out of 200\" % agent.test(env))"
      ],
      "execution_count": 46,
      "outputs": [
        {
          "output_type": "stream",
          "text": [
            "I0623 15:08:44.590524 139948063606656 <ipython-input-44-6c72245ce322>:32] Episode: 001, Rewards: 101\n",
            "I0623 15:08:45.085615 139948063606656 <ipython-input-44-6c72245ce322>:32] Episode: 002, Rewards: 196\n",
            "I0623 15:08:45.503775 139948063606656 <ipython-input-44-6c72245ce322>:32] Episode: 003, Rewards: 155\n",
            "I0623 15:08:46.015667 139948063606656 <ipython-input-44-6c72245ce322>:32] Episode: 004, Rewards: 200\n",
            "I0623 15:08:46.337603 139948063606656 <ipython-input-44-6c72245ce322>:32] Episode: 005, Rewards: 119\n",
            "I0623 15:08:46.751806 139948063606656 <ipython-input-44-6c72245ce322>:32] Episode: 006, Rewards: 156\n",
            "I0623 15:08:47.072153 139948063606656 <ipython-input-44-6c72245ce322>:32] Episode: 007, Rewards: 120\n",
            "I0623 15:08:47.329771 139948063606656 <ipython-input-44-6c72245ce322>:32] Episode: 008, Rewards: 097\n",
            "I0623 15:08:47.808275 139948063606656 <ipython-input-44-6c72245ce322>:32] Episode: 009, Rewards: 184\n",
            "I0623 15:08:48.073734 139948063606656 <ipython-input-44-6c72245ce322>:32] Episode: 010, Rewards: 101\n",
            "I0623 15:08:48.566144 139948063606656 <ipython-input-44-6c72245ce322>:32] Episode: 011, Rewards: 191\n",
            "I0623 15:08:48.877585 139948063606656 <ipython-input-44-6c72245ce322>:32] Episode: 012, Rewards: 117\n",
            "I0623 15:08:49.393527 139948063606656 <ipython-input-44-6c72245ce322>:32] Episode: 013, Rewards: 200\n",
            "I0623 15:08:49.816309 139948063606656 <ipython-input-44-6c72245ce322>:32] Episode: 014, Rewards: 161\n",
            "I0623 15:08:50.316514 139948063606656 <ipython-input-44-6c72245ce322>:32] Episode: 015, Rewards: 194\n",
            "I0623 15:08:50.574970 139948063606656 <ipython-input-44-6c72245ce322>:32] Episode: 016, Rewards: 098\n",
            "I0623 15:08:51.092588 139948063606656 <ipython-input-44-6c72245ce322>:32] Episode: 017, Rewards: 200\n",
            "I0623 15:08:51.484195 139948063606656 <ipython-input-44-6c72245ce322>:32] Episode: 018, Rewards: 151\n",
            "I0623 15:08:52.004663 139948063606656 <ipython-input-44-6c72245ce322>:32] Episode: 019, Rewards: 200\n",
            "I0623 15:08:52.392013 139948063606656 <ipython-input-44-6c72245ce322>:32] Episode: 020, Rewards: 152\n",
            "I0623 15:08:52.589446 139948063606656 <ipython-input-44-6c72245ce322>:32] Episode: 021, Rewards: 075\n",
            "I0623 15:08:53.135213 139948063606656 <ipython-input-44-6c72245ce322>:32] Episode: 022, Rewards: 200\n",
            "I0623 15:08:53.679971 139948063606656 <ipython-input-44-6c72245ce322>:32] Episode: 023, Rewards: 200\n",
            "I0623 15:08:53.976979 139948063606656 <ipython-input-44-6c72245ce322>:32] Episode: 024, Rewards: 109\n",
            "I0623 15:08:54.389029 139948063606656 <ipython-input-44-6c72245ce322>:32] Episode: 025, Rewards: 162\n",
            "I0623 15:08:54.780027 139948063606656 <ipython-input-44-6c72245ce322>:32] Episode: 026, Rewards: 152\n",
            "I0623 15:08:55.124553 139948063606656 <ipython-input-44-6c72245ce322>:32] Episode: 027, Rewards: 135\n",
            "I0623 15:08:55.264165 139948063606656 <ipython-input-44-6c72245ce322>:32] Episode: 028, Rewards: 052\n",
            "I0623 15:08:55.648173 139948063606656 <ipython-input-44-6c72245ce322>:32] Episode: 029, Rewards: 143\n",
            "I0623 15:08:55.750458 139948063606656 <ipython-input-44-6c72245ce322>:32] Episode: 030, Rewards: 038\n",
            "I0623 15:08:55.824807 139948063606656 <ipython-input-44-6c72245ce322>:32] Episode: 031, Rewards: 026\n",
            "I0623 15:08:56.089530 139948063606656 <ipython-input-44-6c72245ce322>:32] Episode: 032, Rewards: 102\n",
            "I0623 15:08:56.216287 139948063606656 <ipython-input-44-6c72245ce322>:32] Episode: 033, Rewards: 048\n",
            "I0623 15:08:56.456393 139948063606656 <ipython-input-44-6c72245ce322>:32] Episode: 034, Rewards: 092\n",
            "I0623 15:08:56.558380 139948063606656 <ipython-input-44-6c72245ce322>:32] Episode: 035, Rewards: 040\n",
            "I0623 15:08:56.920044 139948063606656 <ipython-input-44-6c72245ce322>:32] Episode: 036, Rewards: 138\n",
            "I0623 15:08:57.285112 139948063606656 <ipython-input-44-6c72245ce322>:32] Episode: 037, Rewards: 142\n",
            "I0623 15:08:57.605597 139948063606656 <ipython-input-44-6c72245ce322>:32] Episode: 038, Rewards: 120\n",
            "I0623 15:08:57.883575 139948063606656 <ipython-input-44-6c72245ce322>:32] Episode: 039, Rewards: 107\n",
            "I0623 15:08:58.278403 139948063606656 <ipython-input-44-6c72245ce322>:32] Episode: 040, Rewards: 154\n",
            "I0623 15:08:58.658241 139948063606656 <ipython-input-44-6c72245ce322>:32] Episode: 041, Rewards: 148\n",
            "I0623 15:08:58.952386 139948063606656 <ipython-input-44-6c72245ce322>:32] Episode: 042, Rewards: 114\n",
            "I0623 15:08:59.277224 139948063606656 <ipython-input-44-6c72245ce322>:32] Episode: 043, Rewards: 128\n",
            "I0623 15:08:59.743254 139948063606656 <ipython-input-44-6c72245ce322>:32] Episode: 044, Rewards: 185\n",
            "I0623 15:09:00.105700 139948063606656 <ipython-input-44-6c72245ce322>:32] Episode: 045, Rewards: 138\n",
            "I0623 15:09:00.438499 139948063606656 <ipython-input-44-6c72245ce322>:32] Episode: 046, Rewards: 132\n",
            "I0623 15:09:00.691863 139948063606656 <ipython-input-44-6c72245ce322>:32] Episode: 047, Rewards: 095\n",
            "I0623 15:09:01.123224 139948063606656 <ipython-input-44-6c72245ce322>:32] Episode: 048, Rewards: 167\n",
            "I0623 15:09:01.574997 139948063606656 <ipython-input-44-6c72245ce322>:32] Episode: 049, Rewards: 178\n",
            "I0623 15:09:01.983597 139948063606656 <ipython-input-44-6c72245ce322>:32] Episode: 050, Rewards: 158\n",
            "I0623 15:09:02.349225 139948063606656 <ipython-input-44-6c72245ce322>:32] Episode: 051, Rewards: 143\n",
            "I0623 15:09:02.787589 139948063606656 <ipython-input-44-6c72245ce322>:32] Episode: 052, Rewards: 174\n",
            "I0623 15:09:03.168368 139948063606656 <ipython-input-44-6c72245ce322>:32] Episode: 053, Rewards: 151\n",
            "I0623 15:09:03.675804 139948063606656 <ipython-input-44-6c72245ce322>:32] Episode: 054, Rewards: 200\n",
            "I0623 15:09:04.045676 139948063606656 <ipython-input-44-6c72245ce322>:32] Episode: 055, Rewards: 140\n",
            "I0623 15:09:04.472536 139948063606656 <ipython-input-44-6c72245ce322>:32] Episode: 056, Rewards: 164\n",
            "I0623 15:09:04.925760 139948063606656 <ipython-input-44-6c72245ce322>:32] Episode: 057, Rewards: 181\n",
            "I0623 15:09:05.422579 139948063606656 <ipython-input-44-6c72245ce322>:32] Episode: 058, Rewards: 200\n",
            "I0623 15:09:05.710350 139948063606656 <ipython-input-44-6c72245ce322>:32] Episode: 059, Rewards: 112\n",
            "I0623 15:09:05.947760 139948063606656 <ipython-input-44-6c72245ce322>:32] Episode: 060, Rewards: 091\n",
            "I0623 15:09:06.466881 139948063606656 <ipython-input-44-6c72245ce322>:32] Episode: 061, Rewards: 200\n",
            "I0623 15:09:06.902274 139948063606656 <ipython-input-44-6c72245ce322>:32] Episode: 062, Rewards: 168\n",
            "I0623 15:09:07.336603 139948063606656 <ipython-input-44-6c72245ce322>:32] Episode: 063, Rewards: 171\n",
            "I0623 15:09:07.840298 139948063606656 <ipython-input-44-6c72245ce322>:32] Episode: 064, Rewards: 200\n",
            "I0623 15:09:08.057815 139948063606656 <ipython-input-44-6c72245ce322>:32] Episode: 065, Rewards: 086\n",
            "I0623 15:09:08.576486 139948063606656 <ipython-input-44-6c72245ce322>:32] Episode: 066, Rewards: 200\n",
            "I0623 15:09:08.951343 139948063606656 <ipython-input-44-6c72245ce322>:32] Episode: 067, Rewards: 149\n",
            "I0623 15:09:09.109916 139948063606656 <ipython-input-44-6c72245ce322>:32] Episode: 068, Rewards: 062\n",
            "I0623 15:09:09.445379 139948063606656 <ipython-input-44-6c72245ce322>:32] Episode: 069, Rewards: 132\n",
            "I0623 15:09:09.773880 139948063606656 <ipython-input-44-6c72245ce322>:32] Episode: 070, Rewards: 129\n",
            "I0623 15:09:09.933969 139948063606656 <ipython-input-44-6c72245ce322>:32] Episode: 071, Rewards: 063\n",
            "I0623 15:09:10.295381 139948063606656 <ipython-input-44-6c72245ce322>:32] Episode: 072, Rewards: 144\n",
            "I0623 15:09:10.724804 139948063606656 <ipython-input-44-6c72245ce322>:32] Episode: 073, Rewards: 169\n",
            "I0623 15:09:11.115179 139948063606656 <ipython-input-44-6c72245ce322>:32] Episode: 074, Rewards: 154\n",
            "I0623 15:09:11.377166 139948063606656 <ipython-input-44-6c72245ce322>:32] Episode: 075, Rewards: 104\n",
            "I0623 15:09:11.770299 139948063606656 <ipython-input-44-6c72245ce322>:32] Episode: 076, Rewards: 156\n",
            "I0623 15:09:11.991723 139948063606656 <ipython-input-44-6c72245ce322>:32] Episode: 077, Rewards: 086\n",
            "I0623 15:09:12.333491 139948063606656 <ipython-input-44-6c72245ce322>:32] Episode: 078, Rewards: 133\n",
            "I0623 15:09:12.745234 139948063606656 <ipython-input-44-6c72245ce322>:32] Episode: 079, Rewards: 166\n",
            "I0623 15:09:13.225401 139948063606656 <ipython-input-44-6c72245ce322>:32] Episode: 080, Rewards: 190\n",
            "I0623 15:09:13.543602 139948063606656 <ipython-input-44-6c72245ce322>:32] Episode: 081, Rewards: 122\n",
            "I0623 15:09:13.916631 139948063606656 <ipython-input-44-6c72245ce322>:32] Episode: 082, Rewards: 147\n",
            "I0623 15:09:14.206527 139948063606656 <ipython-input-44-6c72245ce322>:32] Episode: 083, Rewards: 117\n",
            "I0623 15:09:14.458881 139948063606656 <ipython-input-44-6c72245ce322>:32] Episode: 084, Rewards: 096\n",
            "I0623 15:09:14.910392 139948063606656 <ipython-input-44-6c72245ce322>:32] Episode: 085, Rewards: 176\n",
            "I0623 15:09:15.412147 139948063606656 <ipython-input-44-6c72245ce322>:32] Episode: 086, Rewards: 200\n",
            "I0623 15:09:15.721786 139948063606656 <ipython-input-44-6c72245ce322>:32] Episode: 087, Rewards: 118\n",
            "I0623 15:09:16.084594 139948063606656 <ipython-input-44-6c72245ce322>:32] Episode: 088, Rewards: 142\n",
            "I0623 15:09:16.362441 139948063606656 <ipython-input-44-6c72245ce322>:32] Episode: 089, Rewards: 109\n",
            "I0623 15:09:16.656537 139948063606656 <ipython-input-44-6c72245ce322>:32] Episode: 090, Rewards: 109\n",
            "I0623 15:09:17.093585 139948063606656 <ipython-input-44-6c72245ce322>:32] Episode: 091, Rewards: 174\n",
            "I0623 15:09:17.532600 139948063606656 <ipython-input-44-6c72245ce322>:32] Episode: 092, Rewards: 176\n",
            "I0623 15:09:17.787246 139948063606656 <ipython-input-44-6c72245ce322>:32] Episode: 093, Rewards: 102\n",
            "I0623 15:09:18.091937 139948063606656 <ipython-input-44-6c72245ce322>:32] Episode: 094, Rewards: 122\n",
            "I0623 15:09:18.365612 139948063606656 <ipython-input-44-6c72245ce322>:32] Episode: 095, Rewards: 108\n",
            "I0623 15:09:18.756956 139948063606656 <ipython-input-44-6c72245ce322>:32] Episode: 096, Rewards: 155\n",
            "I0623 15:09:19.028442 139948063606656 <ipython-input-44-6c72245ce322>:32] Episode: 097, Rewards: 104\n",
            "I0623 15:09:19.532812 139948063606656 <ipython-input-44-6c72245ce322>:32] Episode: 098, Rewards: 200\n",
            "I0623 15:09:19.768047 139948063606656 <ipython-input-44-6c72245ce322>:32] Episode: 099, Rewards: 090\n",
            "I0623 15:09:20.265926 139948063606656 <ipython-input-44-6c72245ce322>:32] Episode: 100, Rewards: 200\n",
            "I0623 15:09:20.576604 139948063606656 <ipython-input-44-6c72245ce322>:32] Episode: 101, Rewards: 126\n",
            "I0623 15:09:21.026463 139948063606656 <ipython-input-44-6c72245ce322>:32] Episode: 102, Rewards: 176\n",
            "I0623 15:09:21.528400 139948063606656 <ipython-input-44-6c72245ce322>:32] Episode: 103, Rewards: 200\n",
            "I0623 15:09:22.041137 139948063606656 <ipython-input-44-6c72245ce322>:32] Episode: 104, Rewards: 200\n",
            "I0623 15:09:22.477050 139948063606656 <ipython-input-44-6c72245ce322>:32] Episode: 105, Rewards: 178\n",
            "I0623 15:09:22.882922 139948063606656 <ipython-input-44-6c72245ce322>:32] Episode: 106, Rewards: 162\n",
            "I0623 15:09:23.378876 139948063606656 <ipython-input-44-6c72245ce322>:32] Episode: 107, Rewards: 200\n",
            "I0623 15:09:23.880542 139948063606656 <ipython-input-44-6c72245ce322>:32] Episode: 108, Rewards: 200\n",
            "I0623 15:09:24.317631 139948063606656 <ipython-input-44-6c72245ce322>:32] Episode: 109, Rewards: 161\n",
            "I0623 15:09:24.833889 139948063606656 <ipython-input-44-6c72245ce322>:32] Episode: 110, Rewards: 200\n",
            "I0623 15:09:25.336588 139948063606656 <ipython-input-44-6c72245ce322>:32] Episode: 111, Rewards: 200\n",
            "I0623 15:09:25.824193 139948063606656 <ipython-input-44-6c72245ce322>:32] Episode: 112, Rewards: 200\n",
            "I0623 15:09:26.120117 139948063606656 <ipython-input-44-6c72245ce322>:32] Episode: 113, Rewards: 119\n",
            "I0623 15:09:26.503980 139948063606656 <ipython-input-44-6c72245ce322>:32] Episode: 114, Rewards: 154\n",
            "I0623 15:09:26.919010 139948063606656 <ipython-input-44-6c72245ce322>:32] Episode: 115, Rewards: 159\n",
            "I0623 15:09:27.457873 139948063606656 <ipython-input-44-6c72245ce322>:32] Episode: 116, Rewards: 200\n",
            "I0623 15:09:27.857754 139948063606656 <ipython-input-44-6c72245ce322>:32] Episode: 117, Rewards: 150\n",
            "I0623 15:09:28.195144 139948063606656 <ipython-input-44-6c72245ce322>:32] Episode: 118, Rewards: 135\n",
            "I0623 15:09:28.674002 139948063606656 <ipython-input-44-6c72245ce322>:32] Episode: 119, Rewards: 184\n",
            "I0623 15:09:28.969198 139948063606656 <ipython-input-44-6c72245ce322>:32] Episode: 120, Rewards: 114\n",
            "I0623 15:09:29.262475 139948063606656 <ipython-input-44-6c72245ce322>:32] Episode: 121, Rewards: 111\n",
            "I0623 15:09:29.761937 139948063606656 <ipython-input-44-6c72245ce322>:32] Episode: 122, Rewards: 200\n",
            "I0623 15:09:30.260314 139948063606656 <ipython-input-44-6c72245ce322>:32] Episode: 123, Rewards: 200\n",
            "I0623 15:09:30.774929 139948063606656 <ipython-input-44-6c72245ce322>:32] Episode: 124, Rewards: 200\n",
            "I0623 15:09:31.140425 139948063606656 <ipython-input-44-6c72245ce322>:32] Episode: 125, Rewards: 146\n",
            "I0623 15:09:31.650908 139948063606656 <ipython-input-44-6c72245ce322>:32] Episode: 126, Rewards: 200\n",
            "I0623 15:09:32.165724 139948063606656 <ipython-input-44-6c72245ce322>:32] Episode: 127, Rewards: 200\n",
            "I0623 15:09:32.677223 139948063606656 <ipython-input-44-6c72245ce322>:32] Episode: 128, Rewards: 200\n",
            "I0623 15:09:33.194206 139948063606656 <ipython-input-44-6c72245ce322>:32] Episode: 129, Rewards: 200\n",
            "I0623 15:09:33.559632 139948063606656 <ipython-input-44-6c72245ce322>:32] Episode: 130, Rewards: 141\n",
            "I0623 15:09:33.825210 139948063606656 <ipython-input-44-6c72245ce322>:32] Episode: 131, Rewards: 098\n",
            "I0623 15:09:34.223006 139948063606656 <ipython-input-44-6c72245ce322>:32] Episode: 132, Rewards: 153\n",
            "I0623 15:09:34.629478 139948063606656 <ipython-input-44-6c72245ce322>:32] Episode: 133, Rewards: 156\n",
            "I0623 15:09:34.870767 139948063606656 <ipython-input-44-6c72245ce322>:32] Episode: 134, Rewards: 094\n",
            "I0623 15:09:35.376224 139948063606656 <ipython-input-44-6c72245ce322>:32] Episode: 135, Rewards: 200\n",
            "I0623 15:09:35.882449 139948063606656 <ipython-input-44-6c72245ce322>:32] Episode: 136, Rewards: 200\n",
            "I0623 15:09:36.302315 139948063606656 <ipython-input-44-6c72245ce322>:32] Episode: 137, Rewards: 167\n",
            "I0623 15:09:36.641074 139948063606656 <ipython-input-44-6c72245ce322>:32] Episode: 138, Rewards: 135\n",
            "I0623 15:09:37.137850 139948063606656 <ipython-input-44-6c72245ce322>:32] Episode: 139, Rewards: 196\n",
            "I0623 15:09:37.650755 139948063606656 <ipython-input-44-6c72245ce322>:32] Episode: 140, Rewards: 200\n",
            "I0623 15:09:38.199453 139948063606656 <ipython-input-44-6c72245ce322>:32] Episode: 141, Rewards: 200\n",
            "I0623 15:09:38.463115 139948063606656 <ipython-input-44-6c72245ce322>:32] Episode: 142, Rewards: 102\n",
            "I0623 15:09:38.989794 139948063606656 <ipython-input-44-6c72245ce322>:32] Episode: 143, Rewards: 200\n",
            "I0623 15:09:39.508473 139948063606656 <ipython-input-44-6c72245ce322>:32] Episode: 144, Rewards: 200\n",
            "I0623 15:09:40.018343 139948063606656 <ipython-input-44-6c72245ce322>:32] Episode: 145, Rewards: 200\n",
            "I0623 15:09:40.386532 139948063606656 <ipython-input-44-6c72245ce322>:32] Episode: 146, Rewards: 145\n",
            "I0623 15:09:40.895500 139948063606656 <ipython-input-44-6c72245ce322>:32] Episode: 147, Rewards: 200\n",
            "I0623 15:09:41.416386 139948063606656 <ipython-input-44-6c72245ce322>:32] Episode: 148, Rewards: 200\n",
            "I0623 15:09:41.860476 139948063606656 <ipython-input-44-6c72245ce322>:32] Episode: 149, Rewards: 169\n",
            "I0623 15:09:42.274484 139948063606656 <ipython-input-44-6c72245ce322>:32] Episode: 150, Rewards: 161\n",
            "I0623 15:09:42.792476 139948063606656 <ipython-input-44-6c72245ce322>:32] Episode: 151, Rewards: 200\n",
            "I0623 15:09:43.308526 139948063606656 <ipython-input-44-6c72245ce322>:32] Episode: 152, Rewards: 200\n",
            "I0623 15:09:43.687502 139948063606656 <ipython-input-44-6c72245ce322>:32] Episode: 153, Rewards: 149\n",
            "I0623 15:09:44.221063 139948063606656 <ipython-input-44-6c72245ce322>:32] Episode: 154, Rewards: 200\n",
            "I0623 15:09:44.480703 139948063606656 <ipython-input-44-6c72245ce322>:32] Episode: 155, Rewards: 098\n",
            "I0623 15:09:44.998572 139948063606656 <ipython-input-44-6c72245ce322>:32] Episode: 156, Rewards: 200\n",
            "I0623 15:09:45.412709 139948063606656 <ipython-input-44-6c72245ce322>:32] Episode: 157, Rewards: 164\n",
            "I0623 15:09:45.928867 139948063606656 <ipython-input-44-6c72245ce322>:32] Episode: 158, Rewards: 200\n",
            "I0623 15:09:46.434514 139948063606656 <ipython-input-44-6c72245ce322>:32] Episode: 159, Rewards: 200\n",
            "I0623 15:09:46.962417 139948063606656 <ipython-input-44-6c72245ce322>:32] Episode: 160, Rewards: 200\n",
            "I0623 15:09:47.433914 139948063606656 <ipython-input-44-6c72245ce322>:32] Episode: 161, Rewards: 184\n",
            "I0623 15:09:47.953222 139948063606656 <ipython-input-44-6c72245ce322>:32] Episode: 162, Rewards: 200\n",
            "I0623 15:09:48.452173 139948063606656 <ipython-input-44-6c72245ce322>:32] Episode: 163, Rewards: 197\n",
            "I0623 15:09:48.987926 139948063606656 <ipython-input-44-6c72245ce322>:32] Episode: 164, Rewards: 200\n",
            "I0623 15:09:49.345508 139948063606656 <ipython-input-44-6c72245ce322>:32] Episode: 165, Rewards: 139\n",
            "I0623 15:09:49.675676 139948063606656 <ipython-input-44-6c72245ce322>:32] Episode: 166, Rewards: 127\n",
            "I0623 15:09:50.184754 139948063606656 <ipython-input-44-6c72245ce322>:32] Episode: 167, Rewards: 200\n",
            "I0623 15:09:50.584863 139948063606656 <ipython-input-44-6c72245ce322>:32] Episode: 168, Rewards: 158\n",
            "I0623 15:09:51.098030 139948063606656 <ipython-input-44-6c72245ce322>:32] Episode: 169, Rewards: 200\n",
            "I0623 15:09:51.433949 139948063606656 <ipython-input-44-6c72245ce322>:32] Episode: 170, Rewards: 132\n",
            "I0623 15:09:51.955358 139948063606656 <ipython-input-44-6c72245ce322>:32] Episode: 171, Rewards: 200\n",
            "I0623 15:09:52.331527 139948063606656 <ipython-input-44-6c72245ce322>:32] Episode: 172, Rewards: 145\n",
            "I0623 15:09:52.843284 139948063606656 <ipython-input-44-6c72245ce322>:32] Episode: 173, Rewards: 200\n",
            "I0623 15:09:53.366316 139948063606656 <ipython-input-44-6c72245ce322>:32] Episode: 174, Rewards: 190\n",
            "I0623 15:09:53.849882 139948063606656 <ipython-input-44-6c72245ce322>:32] Episode: 175, Rewards: 198\n",
            "I0623 15:09:54.231730 139948063606656 <ipython-input-44-6c72245ce322>:32] Episode: 176, Rewards: 154\n",
            "I0623 15:09:54.751837 139948063606656 <ipython-input-44-6c72245ce322>:32] Episode: 177, Rewards: 200\n",
            "I0623 15:09:55.238666 139948063606656 <ipython-input-44-6c72245ce322>:32] Episode: 178, Rewards: 200\n",
            "I0623 15:09:55.724943 139948063606656 <ipython-input-44-6c72245ce322>:32] Episode: 179, Rewards: 200\n",
            "I0623 15:09:56.214689 139948063606656 <ipython-input-44-6c72245ce322>:32] Episode: 180, Rewards: 200\n",
            "I0623 15:09:56.696769 139948063606656 <ipython-input-44-6c72245ce322>:32] Episode: 181, Rewards: 200\n",
            "I0623 15:09:57.118507 139948063606656 <ipython-input-44-6c72245ce322>:32] Episode: 182, Rewards: 169\n",
            "I0623 15:09:57.384511 139948063606656 <ipython-input-44-6c72245ce322>:32] Episode: 183, Rewards: 104\n",
            "I0623 15:09:57.881228 139948063606656 <ipython-input-44-6c72245ce322>:32] Episode: 184, Rewards: 200\n",
            "I0623 15:09:58.364869 139948063606656 <ipython-input-44-6c72245ce322>:32] Episode: 185, Rewards: 200\n",
            "I0623 15:09:58.855013 139948063606656 <ipython-input-44-6c72245ce322>:32] Episode: 186, Rewards: 200\n",
            "I0623 15:09:59.380208 139948063606656 <ipython-input-44-6c72245ce322>:32] Episode: 187, Rewards: 200\n",
            "I0623 15:09:59.753651 139948063606656 <ipython-input-44-6c72245ce322>:32] Episode: 188, Rewards: 153\n",
            "I0623 15:10:00.133901 139948063606656 <ipython-input-44-6c72245ce322>:32] Episode: 189, Rewards: 157\n",
            "I0623 15:10:00.610548 139948063606656 <ipython-input-44-6c72245ce322>:32] Episode: 190, Rewards: 190\n",
            "I0623 15:10:01.125871 139948063606656 <ipython-input-44-6c72245ce322>:32] Episode: 191, Rewards: 200\n",
            "I0623 15:10:01.551348 139948063606656 <ipython-input-44-6c72245ce322>:32] Episode: 192, Rewards: 168\n",
            "I0623 15:10:01.954182 139948063606656 <ipython-input-44-6c72245ce322>:32] Episode: 193, Rewards: 163\n",
            "I0623 15:10:02.172706 139948063606656 <ipython-input-44-6c72245ce322>:32] Episode: 194, Rewards: 088\n",
            "I0623 15:10:02.665677 139948063606656 <ipython-input-44-6c72245ce322>:32] Episode: 195, Rewards: 200\n",
            "I0623 15:10:03.082854 139948063606656 <ipython-input-44-6c72245ce322>:32] Episode: 196, Rewards: 168\n",
            "I0623 15:10:03.591650 139948063606656 <ipython-input-44-6c72245ce322>:32] Episode: 197, Rewards: 200\n",
            "I0623 15:10:04.045710 139948063606656 <ipython-input-44-6c72245ce322>:32] Episode: 198, Rewards: 173\n",
            "I0623 15:10:04.316703 139948063606656 <ipython-input-44-6c72245ce322>:32] Episode: 199, Rewards: 106\n",
            "I0623 15:10:04.632497 139948063606656 <ipython-input-44-6c72245ce322>:32] Episode: 200, Rewards: 119\n",
            "I0623 15:10:05.079890 139948063606656 <ipython-input-44-6c72245ce322>:32] Episode: 201, Rewards: 179\n",
            "I0623 15:10:05.567042 139948063606656 <ipython-input-44-6c72245ce322>:32] Episode: 202, Rewards: 196\n",
            "I0623 15:10:06.054826 139948063606656 <ipython-input-44-6c72245ce322>:32] Episode: 203, Rewards: 200\n",
            "I0623 15:10:06.227289 139948063606656 <ipython-input-44-6c72245ce322>:32] Episode: 204, Rewards: 071\n"
          ],
          "name": "stderr"
        },
        {
          "output_type": "stream",
          "text": [
            "Finished training, testing ...\n",
            "120 out of 200\n"
          ],
          "name": "stdout"
        }
      ]
    },
    {
      "cell_type": "code",
      "metadata": {
        "id": "emmAGgqd1mqS",
        "colab_type": "code",
        "colab": {
          "base_uri": "https://localhost:8080/",
          "height": 34
        },
        "outputId": "3bd8623f-8f27-47e0-8dd5-e4f73492a46a"
      },
      "source": [
        "print(\"Total Episode Reward: %d out of 200\" % agent.test(env))"
      ],
      "execution_count": 47,
      "outputs": [
        {
          "output_type": "stream",
          "text": [
            "Total Episode Reward: 200 out of 200\n"
          ],
          "name": "stdout"
        }
      ]
    },
    {
      "cell_type": "code",
      "metadata": {
        "id": "HHmlocbb4h2k",
        "colab_type": "code",
        "colab": {
          "base_uri": "https://localhost:8080/",
          "height": 361
        },
        "outputId": "4050bc39-b4ef-414f-9a91-50d734cc8008"
      },
      "source": [
        "plt.style.use('seaborn')\n",
        "plt.plot(np.arange(0, len(rewards_history), 25), rewards_history[::25])\n",
        "plt.xlabel('Episode')\n",
        "plt.ylabel('Total Reward')\n",
        "plt.show()"
      ],
      "execution_count": 48,
      "outputs": [
        {
          "output_type": "display_data",
          "data": {
            "image/png": "[encoded data removed]",
            "text/plain": [
              "<Figure size 576x396 with 1 Axes>"
            ]
          },
          "metadata": {
            "tags": []
          }
        }
      ]
    },
    {
      "cell_type": "code",
      "metadata": {
        "id": "AsN1uylG4j9h",
        "colab_type": "code",
        "colab": {}
      },
      "source": [
        ""
      ],
      "execution_count": 0,
      "outputs": []
    }
  ]
}