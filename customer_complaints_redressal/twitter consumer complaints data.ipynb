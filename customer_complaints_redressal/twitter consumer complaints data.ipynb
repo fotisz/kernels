{
 "cells": [
  {
   "cell_type": "markdown",
   "metadata": {},
   "source": [
    "reference https://www.earthdatascience.org/courses/earth-analytics-python/using-apis-natural-language-processing-twitter/get-and-use-twitter-data-in-python/"
   ]
  },
  {
   "cell_type": "code",
   "execution_count": 1,
   "metadata": {},
   "outputs": [],
   "source": [
    "import os\n",
    "import tweepy as tw\n",
    "import pandas as pd"
   ]
  },
  {
   "cell_type": "code",
   "execution_count": 2,
   "metadata": {},
   "outputs": [],
   "source": [
    "####input your credentials here\n",
    "consumer_key = os.environ['consumer_key']\n",
    "consumer_secret = os.environ['consumer_secret']\n",
    "access_token = os.environ['access_token']\n",
    "access_token_secret = os.environ['access_token_secret']"
   ]
  },
  {
   "cell_type": "code",
   "execution_count": 3,
   "metadata": {},
   "outputs": [],
   "source": [
    "auth = tw.OAuthHandler(consumer_key, consumer_secret)\n",
    "auth.set_access_token(access_token, access_token_secret)\n",
    "api = tw.API(auth, wait_on_rate_limit=True)"
   ]
  },
  {
   "cell_type": "code",
   "execution_count": 4,
   "metadata": {},
   "outputs": [],
   "source": [
    "search_words = \"#badservice\"\n",
    "date_since = \"2019-12-10\""
   ]
  },
  {
   "cell_type": "code",
   "execution_count": 5,
   "metadata": {},
   "outputs": [
    {
     "name": "stdout",
     "output_type": "stream",
     "text": [
      "Sat Dec 14 10:05:59 IST 2019\r\n"
     ]
    }
   ],
   "source": [
    "!date"
   ]
  },
  {
   "cell_type": "code",
   "execution_count": 7,
   "metadata": {},
   "outputs": [
    {
     "name": "stdout",
     "output_type": "stream",
     "text": [
      "<tweepy.cursor.ItemIterator object at 0x11fc084d0>\n"
     ]
    }
   ],
   "source": [
    "# Collect tweets\n",
    "tweets = tw.Cursor(api.search,\n",
    "              q=search_words,\n",
    "              lang=\"en\",\n",
    "              since=date_since).items(5)\n",
    "print(tweets)"
   ]
  },
  {
   "cell_type": "code",
   "execution_count": 8,
   "metadata": {},
   "outputs": [
    {
     "name": "stdout",
     "output_type": "stream",
     "text": [
      "@kirklands More than 24 hours since I left the DM you requested.  No response.  Your customer service is atrocious.… https://t.co/clSygy6A9X\n",
      "@EBGamesCanada so....I have never been in one of your stores so it was confusing as a non gamer.\n",
      "The kid that helpe… https://t.co/OOdaVfzz3N\n",
      "@Chime I sent you a bunch of information, however after reviewing the information I realized that your reps are inv… https://t.co/bFOV6o0d2b\n",
      "@financialombuds we are still waiting for our claim to be finalised after 7 weeks and NO contact from… https://t.co/LEz3AtFOWC\n"
     ]
    }
   ],
   "source": [
    "# Collect tweets\n",
    "tweets = tw.Cursor(api.search,\n",
    "              q=search_words,\n",
    "              lang=\"en\",\n",
    "              since=date_since).items(5)\n",
    "\n",
    "# Iterate and print tweets\n",
    "for tweet in tweets:\n",
    "    print(tweet.text)"
   ]
  },
  {
   "cell_type": "code",
   "execution_count": 9,
   "metadata": {},
   "outputs": [
    {
     "data": {
      "text/plain": [
       "['@kirklands More than 24 hours since I left the DM you requested.  No response.  Your customer service is atrocious.… https://t.co/clSygy6A9X',\n",
       " '@EBGamesCanada so....I have never been in one of your stores so it was confusing as a non gamer.\\nThe kid that helpe… https://t.co/OOdaVfzz3N',\n",
       " '@Chime I sent you a bunch of information, however after reviewing the information I realized that your reps are inv… https://t.co/bFOV6o0d2b',\n",
       " '@financialombuds we are still waiting for our claim to be finalised after 7 weeks and NO contact from… https://t.co/LEz3AtFOWC']"
      ]
     },
     "execution_count": 9,
     "metadata": {},
     "output_type": "execute_result"
    }
   ],
   "source": [
    "# Collect tweets\n",
    "tweets = tw.Cursor(api.search,\n",
    "                       q=search_words,\n",
    "                       lang=\"en\",\n",
    "                       since=date_since).items(5)\n",
    "\n",
    "# Collect a list of tweets\n",
    "[tweet.text for tweet in tweets]"
   ]
  },
  {
   "cell_type": "code",
   "execution_count": 10,
   "metadata": {},
   "outputs": [
    {
     "data": {
      "text/plain": [
       "'#badservice -filter:retweets'"
      ]
     },
     "execution_count": 10,
     "metadata": {},
     "output_type": "execute_result"
    }
   ],
   "source": [
    "new_search = search_words + \" -filter:retweets\"\n",
    "new_search"
   ]
  },
  {
   "cell_type": "code",
   "execution_count": 11,
   "metadata": {},
   "outputs": [
    {
     "data": {
      "text/plain": [
       "['@kirklands More than 24 hours since I left the DM you requested.  No response.  Your customer service is atrocious.… https://t.co/clSygy6A9X',\n",
       " '@EBGamesCanada so....I have never been in one of your stores so it was confusing as a non gamer.\\nThe kid that helpe… https://t.co/OOdaVfzz3N',\n",
       " '@Chime I sent you a bunch of information, however after reviewing the information I realized that your reps are inv… https://t.co/bFOV6o0d2b',\n",
       " '@financialombuds we are still waiting for our claim to be finalised after 7 weeks and NO contact from… https://t.co/LEz3AtFOWC']"
      ]
     },
     "execution_count": 11,
     "metadata": {},
     "output_type": "execute_result"
    }
   ],
   "source": [
    "tweets = tw.Cursor(api.search,\n",
    "                       q=new_search,\n",
    "                       lang=\"en\",\n",
    "                       since=date_since).items(5)\n",
    "\n",
    "[tweet.text for tweet in tweets]"
   ]
  },
  {
   "cell_type": "code",
   "execution_count": 26,
   "metadata": {},
   "outputs": [],
   "source": [
    "tweets = tw.Cursor(api.search, \n",
    "                           q=new_search,\n",
    "                           lang=\"en\",\n",
    "                           since=date_since).items(5)\n",
    "\n",
    "users_locs = [[tweet.user.screen_name, tweet.user.location, tweet.text, tweet.id] for tweet in tweets]"
   ]
  },
  {
   "cell_type": "code",
   "execution_count": 27,
   "metadata": {},
   "outputs": [
    {
     "data": {
      "text/plain": [
       "[['SreedharBukya',\n",
       "  'Hyderabad, India',\n",
       "  '@apollomunichins It is very sad that your team unable to renew my insurance because of your employee negligence of… https://t.co/qgbmiOycfC',\n",
       "  1205696371048583168],\n",
       " ['claire_s40',\n",
       "  'Southern California',\n",
       "  '@kirklands More than 24 hours since I left the DM you requested.  No response.  Your customer service is atrocious.… https://t.co/clSygy6A9X',\n",
       "  1205684528372576256],\n",
       " ['LoriSweeney10',\n",
       "  'Ontario',\n",
       "  '@EBGamesCanada so....I have never been in one of your stores so it was confusing as a non gamer.\\nThe kid that helpe… https://t.co/OOdaVfzz3N',\n",
       "  1205647948761223168],\n",
       " ['Koa_aloha',\n",
       "  '',\n",
       "  '@Chime I sent you a bunch of information, however after reviewing the information I realized that your reps are inv… https://t.co/bFOV6o0d2b',\n",
       "  1205643710836416513],\n",
       " ['Spook_asem',\n",
       "  'Glasgow, Scotland',\n",
       "  '@financialombuds we are still waiting for our claim to be finalised after 7 weeks and NO contact from… https://t.co/LEz3AtFOWC',\n",
       "  1205641236935315461]]"
      ]
     },
     "execution_count": 27,
     "metadata": {},
     "output_type": "execute_result"
    }
   ],
   "source": [
    "users_locs"
   ]
  },
  {
   "cell_type": "code",
   "execution_count": 28,
   "metadata": {},
   "outputs": [],
   "source": [
    "a = api.get_status(1205696371048583168, tweet_mode='extended')"
   ]
  },
  {
   "cell_type": "code",
   "execution_count": 29,
   "metadata": {},
   "outputs": [
    {
     "data": {
      "text/plain": [
       "\"@apollomunichins It is very sad that your team unable to renew my insurance because of your employee negligence of handling the process and coming with excuse head office team didn't do their job. This is all after you take payment. \\n #CustomerExperience #frustrated #badservice\""
      ]
     },
     "execution_count": 29,
     "metadata": {},
     "output_type": "execute_result"
    }
   ],
   "source": [
    "a.full_text"
   ]
  },
  {
   "cell_type": "code",
   "execution_count": null,
   "metadata": {},
   "outputs": [],
   "source": []
  },
  {
   "cell_type": "code",
   "execution_count": null,
   "metadata": {},
   "outputs": [],
   "source": []
  },
  {
   "cell_type": "code",
   "execution_count": 30,
   "metadata": {},
   "outputs": [],
   "source": [
    "tweets = tw.Cursor(api.search, \n",
    "                           q=new_search,\n",
    "                           lang=\"en\",\n",
    "                           since=date_since).items(200)\n",
    "\n",
    "users_locs = [[tweet.user.screen_name, tweet.user.location, tweet.text, tweet.id] for tweet in tweets]"
   ]
  },
  {
   "cell_type": "code",
   "execution_count": 31,
   "metadata": {},
   "outputs": [
    {
     "data": {
      "text/html": [
       "<div>\n",
       "<style scoped>\n",
       "    .dataframe tbody tr th:only-of-type {\n",
       "        vertical-align: middle;\n",
       "    }\n",
       "\n",
       "    .dataframe tbody tr th {\n",
       "        vertical-align: top;\n",
       "    }\n",
       "\n",
       "    .dataframe thead th {\n",
       "        text-align: right;\n",
       "    }\n",
       "</style>\n",
       "<table border=\"1\" class=\"dataframe\">\n",
       "  <thead>\n",
       "    <tr style=\"text-align: right;\">\n",
       "      <th></th>\n",
       "      <th>user</th>\n",
       "      <th>location</th>\n",
       "      <th>text</th>\n",
       "      <th>id</th>\n",
       "    </tr>\n",
       "  </thead>\n",
       "  <tbody>\n",
       "    <tr>\n",
       "      <th>0</th>\n",
       "      <td>SreedharBukya</td>\n",
       "      <td>Hyderabad, India</td>\n",
       "      <td>@apollomunichins It is very sad that your team...</td>\n",
       "      <td>1205696371048583168</td>\n",
       "    </tr>\n",
       "    <tr>\n",
       "      <th>1</th>\n",
       "      <td>claire_s40</td>\n",
       "      <td>Southern California</td>\n",
       "      <td>@kirklands More than 24 hours since I left the...</td>\n",
       "      <td>1205684528372576256</td>\n",
       "    </tr>\n",
       "    <tr>\n",
       "      <th>2</th>\n",
       "      <td>LoriSweeney10</td>\n",
       "      <td>Ontario</td>\n",
       "      <td>@EBGamesCanada so....I have never been in one ...</td>\n",
       "      <td>1205647948761223168</td>\n",
       "    </tr>\n",
       "    <tr>\n",
       "      <th>3</th>\n",
       "      <td>Koa_aloha</td>\n",
       "      <td></td>\n",
       "      <td>@Chime I sent you a bunch of information, howe...</td>\n",
       "      <td>1205643710836416513</td>\n",
       "    </tr>\n",
       "    <tr>\n",
       "      <th>4</th>\n",
       "      <td>Spook_asem</td>\n",
       "      <td>Glasgow, Scotland</td>\n",
       "      <td>@financialombuds we are still waiting for our ...</td>\n",
       "      <td>1205641236935315461</td>\n",
       "    </tr>\n",
       "    <tr>\n",
       "      <th>...</th>\n",
       "      <td>...</td>\n",
       "      <td>...</td>\n",
       "      <td>...</td>\n",
       "      <td>...</td>\n",
       "    </tr>\n",
       "    <tr>\n",
       "      <th>195</th>\n",
       "      <td>akshitlakhani2</td>\n",
       "      <td></td>\n",
       "      <td>@UberEats_IND\\nI ordered food two day ago and ...</td>\n",
       "      <td>1204773628081885184</td>\n",
       "    </tr>\n",
       "    <tr>\n",
       "      <th>196</th>\n",
       "      <td>akshitlakhani2</td>\n",
       "      <td></td>\n",
       "      <td>@UberEats \\nI ordered food two day ago and mad...</td>\n",
       "      <td>1204771995893649408</td>\n",
       "    </tr>\n",
       "    <tr>\n",
       "      <th>197</th>\n",
       "      <td>laird_matt</td>\n",
       "      <td>coventry</td>\n",
       "      <td>@IWOOT_CS @iwoot @Hermesparcels I’m not sure w...</td>\n",
       "      <td>1204768101507698689</td>\n",
       "    </tr>\n",
       "    <tr>\n",
       "      <th>198</th>\n",
       "      <td>shawsey81</td>\n",
       "      <td>Brum</td>\n",
       "      <td>@Hermesparcels not impressed by your service, ...</td>\n",
       "      <td>1204767535276732417</td>\n",
       "    </tr>\n",
       "    <tr>\n",
       "      <th>199</th>\n",
       "      <td>neozizo235</td>\n",
       "      <td>Johannesburg, South Africa</td>\n",
       "      <td>@VoxTelecom I’ve been calling Vox for the past...</td>\n",
       "      <td>1204767074117132288</td>\n",
       "    </tr>\n",
       "  </tbody>\n",
       "</table>\n",
       "<p>200 rows × 4 columns</p>\n",
       "</div>"
      ],
      "text/plain": [
       "               user                    location  \\\n",
       "0     SreedharBukya            Hyderabad, India   \n",
       "1        claire_s40         Southern California   \n",
       "2     LoriSweeney10                     Ontario   \n",
       "3         Koa_aloha                               \n",
       "4        Spook_asem           Glasgow, Scotland   \n",
       "..              ...                         ...   \n",
       "195  akshitlakhani2                               \n",
       "196  akshitlakhani2                               \n",
       "197      laird_matt                    coventry   \n",
       "198       shawsey81                        Brum   \n",
       "199      neozizo235  Johannesburg, South Africa   \n",
       "\n",
       "                                                  text                   id  \n",
       "0    @apollomunichins It is very sad that your team...  1205696371048583168  \n",
       "1    @kirklands More than 24 hours since I left the...  1205684528372576256  \n",
       "2    @EBGamesCanada so....I have never been in one ...  1205647948761223168  \n",
       "3    @Chime I sent you a bunch of information, howe...  1205643710836416513  \n",
       "4    @financialombuds we are still waiting for our ...  1205641236935315461  \n",
       "..                                                 ...                  ...  \n",
       "195  @UberEats_IND\\nI ordered food two day ago and ...  1204773628081885184  \n",
       "196  @UberEats \\nI ordered food two day ago and mad...  1204771995893649408  \n",
       "197  @IWOOT_CS @iwoot @Hermesparcels I’m not sure w...  1204768101507698689  \n",
       "198  @Hermesparcels not impressed by your service, ...  1204767535276732417  \n",
       "199  @VoxTelecom I’ve been calling Vox for the past...  1204767074117132288  \n",
       "\n",
       "[200 rows x 4 columns]"
      ]
     },
     "execution_count": 31,
     "metadata": {},
     "output_type": "execute_result"
    }
   ],
   "source": [
    "tweet_text = pd.DataFrame(data=users_locs, \n",
    "                    columns=['user', \"location\", \"text\", \"id\"])"
   ]
  },
  {
   "cell_type": "code",
   "execution_count": 32,
   "metadata": {},
   "outputs": [
    {
     "data": {
      "text/html": [
       "<div>\n",
       "<style scoped>\n",
       "    .dataframe tbody tr th:only-of-type {\n",
       "        vertical-align: middle;\n",
       "    }\n",
       "\n",
       "    .dataframe tbody tr th {\n",
       "        vertical-align: top;\n",
       "    }\n",
       "\n",
       "    .dataframe thead th {\n",
       "        text-align: right;\n",
       "    }\n",
       "</style>\n",
       "<table border=\"1\" class=\"dataframe\">\n",
       "  <thead>\n",
       "    <tr style=\"text-align: right;\">\n",
       "      <th></th>\n",
       "      <th>user</th>\n",
       "      <th>location</th>\n",
       "      <th>text</th>\n",
       "      <th>id</th>\n",
       "    </tr>\n",
       "  </thead>\n",
       "  <tbody>\n",
       "    <tr>\n",
       "      <th>0</th>\n",
       "      <td>SreedharBukya</td>\n",
       "      <td>Hyderabad, India</td>\n",
       "      <td>@apollomunichins It is very sad that your team...</td>\n",
       "      <td>1205696371048583168</td>\n",
       "    </tr>\n",
       "    <tr>\n",
       "      <th>1</th>\n",
       "      <td>claire_s40</td>\n",
       "      <td>Southern California</td>\n",
       "      <td>@kirklands More than 24 hours since I left the...</td>\n",
       "      <td>1205684528372576256</td>\n",
       "    </tr>\n",
       "    <tr>\n",
       "      <th>2</th>\n",
       "      <td>LoriSweeney10</td>\n",
       "      <td>Ontario</td>\n",
       "      <td>@EBGamesCanada so....I have never been in one ...</td>\n",
       "      <td>1205647948761223168</td>\n",
       "    </tr>\n",
       "    <tr>\n",
       "      <th>3</th>\n",
       "      <td>Koa_aloha</td>\n",
       "      <td></td>\n",
       "      <td>@Chime I sent you a bunch of information, howe...</td>\n",
       "      <td>1205643710836416513</td>\n",
       "    </tr>\n",
       "    <tr>\n",
       "      <th>4</th>\n",
       "      <td>Spook_asem</td>\n",
       "      <td>Glasgow, Scotland</td>\n",
       "      <td>@financialombuds we are still waiting for our ...</td>\n",
       "      <td>1205641236935315461</td>\n",
       "    </tr>\n",
       "  </tbody>\n",
       "</table>\n",
       "</div>"
      ],
      "text/plain": [
       "            user             location  \\\n",
       "0  SreedharBukya     Hyderabad, India   \n",
       "1     claire_s40  Southern California   \n",
       "2  LoriSweeney10              Ontario   \n",
       "3      Koa_aloha                        \n",
       "4     Spook_asem    Glasgow, Scotland   \n",
       "\n",
       "                                                text                   id  \n",
       "0  @apollomunichins It is very sad that your team...  1205696371048583168  \n",
       "1  @kirklands More than 24 hours since I left the...  1205684528372576256  \n",
       "2  @EBGamesCanada so....I have never been in one ...  1205647948761223168  \n",
       "3  @Chime I sent you a bunch of information, howe...  1205643710836416513  \n",
       "4  @financialombuds we are still waiting for our ...  1205641236935315461  "
      ]
     },
     "execution_count": 32,
     "metadata": {},
     "output_type": "execute_result"
    }
   ],
   "source": [
    "tweet_text.head()"
   ]
  },
  {
   "cell_type": "code",
   "execution_count": 33,
   "metadata": {},
   "outputs": [],
   "source": [
    "%%time\n",
    "\n",
    "tweet_text['full_text'] = tweet_text['id'].apply(lambda x: api.get_status(x, tweet_mode='extended').full_text)"
   ]
  },
  {
   "cell_type": "code",
   "execution_count": null,
   "metadata": {},
   "outputs": [],
   "source": [
    "def operation(text):\n",
    "    if \"sad\" in text:\n",
    "        return \"yes\"\n",
    "    else:\n",
    "        return \"no\""
   ]
  },
  {
   "cell_type": "code",
   "execution_count": null,
   "metadata": {},
   "outputs": [],
   "source": [
    "tweet_text['is_sad'] = tweet_text['text'].apply(operation\n",
    "                                               '')"
   ]
  },
  {
   "cell_type": "code",
   "execution_count": 34,
   "metadata": {},
   "outputs": [
    {
     "data": {
      "text/html": [
       "<div>\n",
       "<style scoped>\n",
       "    .dataframe tbody tr th:only-of-type {\n",
       "        vertical-align: middle;\n",
       "    }\n",
       "\n",
       "    .dataframe tbody tr th {\n",
       "        vertical-align: top;\n",
       "    }\n",
       "\n",
       "    .dataframe thead th {\n",
       "        text-align: right;\n",
       "    }\n",
       "</style>\n",
       "<table border=\"1\" class=\"dataframe\">\n",
       "  <thead>\n",
       "    <tr style=\"text-align: right;\">\n",
       "      <th></th>\n",
       "      <th>user</th>\n",
       "      <th>location</th>\n",
       "      <th>text</th>\n",
       "      <th>id</th>\n",
       "      <th>full_text</th>\n",
       "    </tr>\n",
       "  </thead>\n",
       "  <tbody>\n",
       "    <tr>\n",
       "      <th>0</th>\n",
       "      <td>SreedharBukya</td>\n",
       "      <td>Hyderabad, India</td>\n",
       "      <td>@apollomunichins It is very sad that your team...</td>\n",
       "      <td>1205696371048583168</td>\n",
       "      <td>@apollomunichins It is very sad that your team...</td>\n",
       "    </tr>\n",
       "    <tr>\n",
       "      <th>1</th>\n",
       "      <td>claire_s40</td>\n",
       "      <td>Southern California</td>\n",
       "      <td>@kirklands More than 24 hours since I left the...</td>\n",
       "      <td>1205684528372576256</td>\n",
       "      <td>@kirklands More than 24 hours since I left the...</td>\n",
       "    </tr>\n",
       "    <tr>\n",
       "      <th>2</th>\n",
       "      <td>LoriSweeney10</td>\n",
       "      <td>Ontario</td>\n",
       "      <td>@EBGamesCanada so....I have never been in one ...</td>\n",
       "      <td>1205647948761223168</td>\n",
       "      <td>@EBGamesCanada so....I have never been in one ...</td>\n",
       "    </tr>\n",
       "    <tr>\n",
       "      <th>3</th>\n",
       "      <td>Koa_aloha</td>\n",
       "      <td></td>\n",
       "      <td>@Chime I sent you a bunch of information, howe...</td>\n",
       "      <td>1205643710836416513</td>\n",
       "      <td>@Chime I sent you a bunch of information, howe...</td>\n",
       "    </tr>\n",
       "    <tr>\n",
       "      <th>4</th>\n",
       "      <td>Spook_asem</td>\n",
       "      <td>Glasgow, Scotland</td>\n",
       "      <td>@financialombuds we are still waiting for our ...</td>\n",
       "      <td>1205641236935315461</td>\n",
       "      <td>@financialombuds we are still waiting for our ...</td>\n",
       "    </tr>\n",
       "  </tbody>\n",
       "</table>\n",
       "</div>"
      ],
      "text/plain": [
       "            user             location  \\\n",
       "0  SreedharBukya     Hyderabad, India   \n",
       "1     claire_s40  Southern California   \n",
       "2  LoriSweeney10              Ontario   \n",
       "3      Koa_aloha                        \n",
       "4     Spook_asem    Glasgow, Scotland   \n",
       "\n",
       "                                                text                   id  \\\n",
       "0  @apollomunichins It is very sad that your team...  1205696371048583168   \n",
       "1  @kirklands More than 24 hours since I left the...  1205684528372576256   \n",
       "2  @EBGamesCanada so....I have never been in one ...  1205647948761223168   \n",
       "3  @Chime I sent you a bunch of information, howe...  1205643710836416513   \n",
       "4  @financialombuds we are still waiting for our ...  1205641236935315461   \n",
       "\n",
       "                                           full_text  \n",
       "0  @apollomunichins It is very sad that your team...  \n",
       "1  @kirklands More than 24 hours since I left the...  \n",
       "2  @EBGamesCanada so....I have never been in one ...  \n",
       "3  @Chime I sent you a bunch of information, howe...  \n",
       "4  @financialombuds we are still waiting for our ...  "
      ]
     },
     "execution_count": 34,
     "metadata": {},
     "output_type": "execute_result"
    }
   ],
   "source": [
    "tweet_text.head()"
   ]
  },
  {
   "cell_type": "code",
   "execution_count": 35,
   "metadata": {},
   "outputs": [
    {
     "data": {
      "text/plain": [
       "(200, 5)"
      ]
     },
     "execution_count": 35,
     "metadata": {},
     "output_type": "execute_result"
    }
   ],
   "source": [
    "tweet_text.shape"
   ]
  },
  {
   "cell_type": "code",
   "execution_count": 36,
   "metadata": {},
   "outputs": [],
   "source": [
    "tweet_text.to_csv('consumer_complaints.csv')"
   ]
  },
  {
   "cell_type": "code",
   "execution_count": 4,
   "metadata": {},
   "outputs": [],
   "source": [
    "search_words = [\"#nowifi\", \"#badfood\"]\n",
    "date_since = \"2019-12-10\""
   ]
  },
  {
   "cell_type": "code",
   "execution_count": 8,
   "metadata": {},
   "outputs": [],
   "source": [
    "full_df = pd.DataFrame()\n",
    "\n",
    "for sw in search_words:\n",
    "    new_search = sw + \" -filter:retweets\"\n",
    "    tweets = tw.Cursor(api.search, \n",
    "                           q=new_search,\n",
    "                           lang=\"en\",\n",
    "                           since=date_since).items(50)\n",
    "    \n",
    "    users_locs = [[tweet.user.screen_name, tweet.user.location, tweet.text, tweet.id] for tweet in tweets]\n",
    "    tweet_text = pd.DataFrame(data=users_locs, \n",
    "                    columns=['user', \"location\", \"text\", \"id\"])\n",
    "    tweet_text['full_text'] = tweet_text['id'].apply(lambda x: api.get_status(x, tweet_mode='extended').full_text)\n",
    "    tweet_text[\"label\"] = sw\n",
    "    full_df = pd.concat([full_df, tweet_text])"
   ]
  },
  {
   "cell_type": "code",
   "execution_count": 9,
   "metadata": {},
   "outputs": [
    {
     "data": {
      "text/plain": [
       "(31, 6)"
      ]
     },
     "execution_count": 9,
     "metadata": {},
     "output_type": "execute_result"
    }
   ],
   "source": [
    "full_df.shape"
   ]
  },
  {
   "cell_type": "code",
   "execution_count": 10,
   "metadata": {},
   "outputs": [
    {
     "data": {
      "text/html": [
       "<div>\n",
       "<style scoped>\n",
       "    .dataframe tbody tr th:only-of-type {\n",
       "        vertical-align: middle;\n",
       "    }\n",
       "\n",
       "    .dataframe tbody tr th {\n",
       "        vertical-align: top;\n",
       "    }\n",
       "\n",
       "    .dataframe thead th {\n",
       "        text-align: right;\n",
       "    }\n",
       "</style>\n",
       "<table border=\"1\" class=\"dataframe\">\n",
       "  <thead>\n",
       "    <tr style=\"text-align: right;\">\n",
       "      <th></th>\n",
       "      <th>user</th>\n",
       "      <th>location</th>\n",
       "      <th>text</th>\n",
       "      <th>id</th>\n",
       "      <th>full_text</th>\n",
       "      <th>label</th>\n",
       "    </tr>\n",
       "  </thead>\n",
       "  <tbody>\n",
       "    <tr>\n",
       "      <th>0</th>\n",
       "      <td>jen2hands</td>\n",
       "      <td></td>\n",
       "      <td>Entering our 4th day along with a whole swathe...</td>\n",
       "      <td>1208556469442031617</td>\n",
       "      <td>Entering our 4th day along with a whole swathe...</td>\n",
       "      <td>#nowifi</td>\n",
       "    </tr>\n",
       "    <tr>\n",
       "      <th>1</th>\n",
       "      <td>Code_With_GDD</td>\n",
       "      <td>Rangpur, Bangladesh</td>\n",
       "      <td>I wish twitter was on FreeBasics...\\n😫😩😫😩😫\\n#L...</td>\n",
       "      <td>1208375320350322690</td>\n",
       "      <td>I wish twitter was on FreeBasics...\\n😫😩😫😩😫\\n#L...</td>\n",
       "      <td>#nowifi</td>\n",
       "    </tr>\n",
       "    <tr>\n",
       "      <th>2</th>\n",
       "      <td>GeekForHireInc</td>\n",
       "      <td>Front Range of Colorado</td>\n",
       "      <td>Check your phone or tablet. If they cant conn...</td>\n",
       "      <td>1208233146015211521</td>\n",
       "      <td>Check your phone or tablet. If they cant conn...</td>\n",
       "      <td>#nowifi</td>\n",
       "    </tr>\n",
       "    <tr>\n",
       "      <th>3</th>\n",
       "      <td>dee_robertson</td>\n",
       "      <td>London</td>\n",
       "      <td>. @SkyHelpTeam I’m enjoying the irony #NoWiFi ...</td>\n",
       "      <td>1208134086772039680</td>\n",
       "      <td>. @SkyHelpTeam I’m enjoying the irony #NoWiFi ...</td>\n",
       "      <td>#nowifi</td>\n",
       "    </tr>\n",
       "    <tr>\n",
       "      <th>4</th>\n",
       "      <td>dee_robertson</td>\n",
       "      <td>London</td>\n",
       "      <td>@SkyHelpTeam I’m enjoying the irony #noWiFi ht...</td>\n",
       "      <td>1208129555141201920</td>\n",
       "      <td>@SkyHelpTeam I’m enjoying the irony #noWiFi ht...</td>\n",
       "      <td>#nowifi</td>\n",
       "    </tr>\n",
       "    <tr>\n",
       "      <th>5</th>\n",
       "      <td>PedMillichamp</td>\n",
       "      <td>New Malden</td>\n",
       "      <td>@mortenmorland @virginmedia Same here in New M...</td>\n",
       "      <td>1207940194781061122</td>\n",
       "      <td>@mortenmorland @virginmedia Same here in New M...</td>\n",
       "      <td>#nowifi</td>\n",
       "    </tr>\n",
       "    <tr>\n",
       "      <th>6</th>\n",
       "      <td>ParadigmSurfR</td>\n",
       "      <td>Orange County, CA</td>\n",
       "      <td>I thought the bay area was uber tech 🤷🏼‍♂️ #no...</td>\n",
       "      <td>1207874678326382592</td>\n",
       "      <td>I thought the bay area was uber tech 🤷🏼‍♂️ #no...</td>\n",
       "      <td>#nowifi</td>\n",
       "    </tr>\n",
       "    <tr>\n",
       "      <th>7</th>\n",
       "      <td>ArooojZahra</td>\n",
       "      <td>Pakistan</td>\n",
       "      <td>Did that on Monday, i dont know what is going ...</td>\n",
       "      <td>1207537857059074049</td>\n",
       "      <td>Did that on Monday, i dont know what is going ...</td>\n",
       "      <td>#nowifi</td>\n",
       "    </tr>\n",
       "    <tr>\n",
       "      <th>8</th>\n",
       "      <td>garymunns</td>\n",
       "      <td></td>\n",
       "      <td>@OfSelina No chance, unless you’re Christmasin...</td>\n",
       "      <td>1207411366639865856</td>\n",
       "      <td>@OfSelina No chance, unless you’re Christmasin...</td>\n",
       "      <td>#nowifi</td>\n",
       "    </tr>\n",
       "    <tr>\n",
       "      <th>9</th>\n",
       "      <td>GeekySales</td>\n",
       "      <td>Front Range, Colorado</td>\n",
       "      <td>Check your phone or tablet. If they cant conn...</td>\n",
       "      <td>1207156105497006080</td>\n",
       "      <td>Check your phone or tablet. If they cant conn...</td>\n",
       "      <td>#nowifi</td>\n",
       "    </tr>\n",
       "    <tr>\n",
       "      <th>10</th>\n",
       "      <td>denise_cronin</td>\n",
       "      <td>Dublin City, Ireland</td>\n",
       "      <td>@rickoshea Yes - home to Cavan for Christmas i...</td>\n",
       "      <td>1206674383730872322</td>\n",
       "      <td>@rickoshea Yes - home to Cavan for Christmas i...</td>\n",
       "      <td>#nowifi</td>\n",
       "    </tr>\n",
       "    <tr>\n",
       "      <th>11</th>\n",
       "      <td>samerbagaeen</td>\n",
       "      <td>Brighton, United Kingdom</td>\n",
       "      <td>Welcome to the Stone Age on board @TLRailUK 16...</td>\n",
       "      <td>1206614979975073798</td>\n",
       "      <td>Welcome to the Stone Age on board @TLRailUK 16...</td>\n",
       "      <td>#nowifi</td>\n",
       "    </tr>\n",
       "    <tr>\n",
       "      <th>12</th>\n",
       "      <td>marykaycooper</td>\n",
       "      <td>San Antonio, TX</td>\n",
       "      <td>He’s going to hook up a DVD player so I can wa...</td>\n",
       "      <td>1206362886219665409</td>\n",
       "      <td>He’s going to hook up a DVD player so I can wa...</td>\n",
       "      <td>#nowifi</td>\n",
       "    </tr>\n",
       "    <tr>\n",
       "      <th>13</th>\n",
       "      <td>GeekForHireInc</td>\n",
       "      <td>Front Range of Colorado</td>\n",
       "      <td>Turn your router and modem off and back on aga...</td>\n",
       "      <td>1206348469864189953</td>\n",
       "      <td>Turn your router and modem off and back on aga...</td>\n",
       "      <td>#nowifi</td>\n",
       "    </tr>\n",
       "    <tr>\n",
       "      <th>14</th>\n",
       "      <td>ReviewGirl8</td>\n",
       "      <td>New York, NY</td>\n",
       "      <td>@homegoods Your wifi is atrocious- oh wait - t...</td>\n",
       "      <td>1206312451442126849</td>\n",
       "      <td>@homegoods Your wifi is atrocious- oh wait - t...</td>\n",
       "      <td>#nowifi</td>\n",
       "    </tr>\n",
       "    <tr>\n",
       "      <th>15</th>\n",
       "      <td>VolantiImaging</td>\n",
       "      <td>Heathfield, England</td>\n",
       "      <td>Had a little visitor in the office today, unti...</td>\n",
       "      <td>1206303781648027648</td>\n",
       "      <td>Had a little visitor in the office today, unti...</td>\n",
       "      <td>#nowifi</td>\n",
       "    </tr>\n",
       "    <tr>\n",
       "      <th>16</th>\n",
       "      <td>ArooojZahra</td>\n",
       "      <td>Pakistan</td>\n",
       "      <td>Pathetic customer service by @Zongers - your c...</td>\n",
       "      <td>1206217311524458497</td>\n",
       "      <td>Pathetic customer service by @Zongers - your c...</td>\n",
       "      <td>#nowifi</td>\n",
       "    </tr>\n",
       "    <tr>\n",
       "      <th>17</th>\n",
       "      <td>TrudyLam1</td>\n",
       "      <td>Ontario, Canada</td>\n",
       "      <td>Stuck at home with a vile 12 year old is exact...</td>\n",
       "      <td>1205875604014485504</td>\n",
       "      <td>Stuck at home with a vile 12 year old is exact...</td>\n",
       "      <td>#nowifi</td>\n",
       "    </tr>\n",
       "    <tr>\n",
       "      <th>0</th>\n",
       "      <td>wandering_techi</td>\n",
       "      <td>India</td>\n",
       "      <td>@swiggy_in Black chapati?? Is that a new breed...</td>\n",
       "      <td>1208447263103574016</td>\n",
       "      <td>@swiggy_in Black chapati?? Is that a new breed...</td>\n",
       "      <td>#badfood</td>\n",
       "    </tr>\n",
       "    <tr>\n",
       "      <th>1</th>\n",
       "      <td>Essexlloydy</td>\n",
       "      <td>essex</td>\n",
       "      <td>@JustEatUK does anyone in your customer suppor...</td>\n",
       "      <td>1208418271642488832</td>\n",
       "      <td>@JustEatUK does anyone in your customer suppor...</td>\n",
       "      <td>#badfood</td>\n",
       "    </tr>\n",
       "    <tr>\n",
       "      <th>2</th>\n",
       "      <td>BLimaLand</td>\n",
       "      <td>Windermere, FL</td>\n",
       "      <td>Just in case you're curious, this is what #Cup...</td>\n",
       "      <td>1208130886891376642</td>\n",
       "      <td>Just in case you're curious, this is what #Cup...</td>\n",
       "      <td>#badfood</td>\n",
       "    </tr>\n",
       "    <tr>\n",
       "      <th>3</th>\n",
       "      <td>MrJamieMack</td>\n",
       "      <td></td>\n",
       "      <td>@Wendys I bought a grilled chicken Caesar sala...</td>\n",
       "      <td>1208115368759308288</td>\n",
       "      <td>@Wendys I bought a grilled chicken Caesar sala...</td>\n",
       "      <td>#badfood</td>\n",
       "    </tr>\n",
       "    <tr>\n",
       "      <th>4</th>\n",
       "      <td>aditi281297</td>\n",
       "      <td></td>\n",
       "      <td>My last four orders have been terrible, cold, ...</td>\n",
       "      <td>1207572977203597313</td>\n",
       "      <td>My last four orders have been terrible, cold, ...</td>\n",
       "      <td>#badfood</td>\n",
       "    </tr>\n",
       "    <tr>\n",
       "      <th>5</th>\n",
       "      <td>leylatabrizi</td>\n",
       "      <td>London, England</td>\n",
       "      <td>@Deliveroo @DeliverooHelp says they can’t offe...</td>\n",
       "      <td>1206853357123575818</td>\n",
       "      <td>@Deliveroo @DeliverooHelp says they can’t offe...</td>\n",
       "      <td>#badfood</td>\n",
       "    </tr>\n",
       "    <tr>\n",
       "      <th>6</th>\n",
       "      <td>Metah4</td>\n",
       "      <td>Harlem</td>\n",
       "      <td>@7elevencares ummmm....I usually love your sal...</td>\n",
       "      <td>1206670692135120896</td>\n",
       "      <td>@7elevencares ummmm....I usually love your sal...</td>\n",
       "      <td>#badfood</td>\n",
       "    </tr>\n",
       "    <tr>\n",
       "      <th>7</th>\n",
       "      <td>Metah4</td>\n",
       "      <td>Harlem</td>\n",
       "      <td>@7eleven ummmm....I usually love your salad.. ...</td>\n",
       "      <td>1206668954443419648</td>\n",
       "      <td>@7eleven ummmm....I usually love your salad.. ...</td>\n",
       "      <td>#badfood</td>\n",
       "    </tr>\n",
       "    <tr>\n",
       "      <th>8</th>\n",
       "      <td>the_rajsolanki</td>\n",
       "      <td>Pune, India</td>\n",
       "      <td>Worst food from swiggy...bad experience  @Swig...</td>\n",
       "      <td>1206630997531357184</td>\n",
       "      <td>Worst food from swiggy...bad experience  @Swig...</td>\n",
       "      <td>#badfood</td>\n",
       "    </tr>\n",
       "    <tr>\n",
       "      <th>9</th>\n",
       "      <td>leonianwriter</td>\n",
       "      <td>Gurgaon, India</td>\n",
       "      <td>@SwiggyCares Do you even care to reply? #Badfo...</td>\n",
       "      <td>1206261821302161408</td>\n",
       "      <td>@SwiggyCares Do you even care to reply? #Badfo...</td>\n",
       "      <td>#badfood</td>\n",
       "    </tr>\n",
       "    <tr>\n",
       "      <th>10</th>\n",
       "      <td>amitmathai</td>\n",
       "      <td>New Delhi, India</td>\n",
       "      <td>@ZomatoIN This is the quality of food I receiv...</td>\n",
       "      <td>1205924460634628097</td>\n",
       "      <td>@ZomatoIN This is the quality of food I receiv...</td>\n",
       "      <td>#badfood</td>\n",
       "    </tr>\n",
       "    <tr>\n",
       "      <th>11</th>\n",
       "      <td>Dad_A_F</td>\n",
       "      <td>United Kingdom</td>\n",
       "      <td>Which one are you? \\n•\\n•\\n•\\n#dad #dadaf #dad...</td>\n",
       "      <td>1205924223270686722</td>\n",
       "      <td>Which one are you? \\n•\\n•\\n•\\n#dad #dadaf #dad...</td>\n",
       "      <td>#badfood</td>\n",
       "    </tr>\n",
       "    <tr>\n",
       "      <th>12</th>\n",
       "      <td>amitmathai</td>\n",
       "      <td>New Delhi, India</td>\n",
       "      <td>@swiggy_in This is the quality of food I recei...</td>\n",
       "      <td>1205924176030076928</td>\n",
       "      <td>@swiggy_in This is the quality of food I recei...</td>\n",
       "      <td>#badfood</td>\n",
       "    </tr>\n",
       "  </tbody>\n",
       "</table>\n",
       "</div>"
      ],
      "text/plain": [
       "               user                  location  \\\n",
       "0         jen2hands                             \n",
       "1     Code_With_GDD       Rangpur, Bangladesh   \n",
       "2    GeekForHireInc   Front Range of Colorado   \n",
       "3     dee_robertson                    London   \n",
       "4     dee_robertson                    London   \n",
       "5     PedMillichamp                New Malden   \n",
       "6     ParadigmSurfR         Orange County, CA   \n",
       "7       ArooojZahra                  Pakistan   \n",
       "8         garymunns                             \n",
       "9        GeekySales     Front Range, Colorado   \n",
       "10    denise_cronin      Dublin City, Ireland   \n",
       "11     samerbagaeen  Brighton, United Kingdom   \n",
       "12    marykaycooper           San Antonio, TX   \n",
       "13   GeekForHireInc   Front Range of Colorado   \n",
       "14      ReviewGirl8              New York, NY   \n",
       "15   VolantiImaging       Heathfield, England   \n",
       "16      ArooojZahra                  Pakistan   \n",
       "17        TrudyLam1           Ontario, Canada   \n",
       "0   wandering_techi                     India   \n",
       "1       Essexlloydy                     essex   \n",
       "2         BLimaLand            Windermere, FL   \n",
       "3       MrJamieMack                             \n",
       "4       aditi281297                             \n",
       "5      leylatabrizi           London, England   \n",
       "6            Metah4                    Harlem   \n",
       "7            Metah4                    Harlem   \n",
       "8    the_rajsolanki               Pune, India   \n",
       "9     leonianwriter            Gurgaon, India   \n",
       "10       amitmathai          New Delhi, India   \n",
       "11          Dad_A_F            United Kingdom   \n",
       "12       amitmathai          New Delhi, India   \n",
       "\n",
       "                                                 text                   id  \\\n",
       "0   Entering our 4th day along with a whole swathe...  1208556469442031617   \n",
       "1   I wish twitter was on FreeBasics...\\n😫😩😫😩😫\\n#L...  1208375320350322690   \n",
       "2   Check your phone or tablet. If they cant conn...  1208233146015211521   \n",
       "3   . @SkyHelpTeam I’m enjoying the irony #NoWiFi ...  1208134086772039680   \n",
       "4   @SkyHelpTeam I’m enjoying the irony #noWiFi ht...  1208129555141201920   \n",
       "5   @mortenmorland @virginmedia Same here in New M...  1207940194781061122   \n",
       "6   I thought the bay area was uber tech 🤷🏼‍♂️ #no...  1207874678326382592   \n",
       "7   Did that on Monday, i dont know what is going ...  1207537857059074049   \n",
       "8   @OfSelina No chance, unless you’re Christmasin...  1207411366639865856   \n",
       "9   Check your phone or tablet. If they cant conn...  1207156105497006080   \n",
       "10  @rickoshea Yes - home to Cavan for Christmas i...  1206674383730872322   \n",
       "11  Welcome to the Stone Age on board @TLRailUK 16...  1206614979975073798   \n",
       "12  He’s going to hook up a DVD player so I can wa...  1206362886219665409   \n",
       "13  Turn your router and modem off and back on aga...  1206348469864189953   \n",
       "14  @homegoods Your wifi is atrocious- oh wait - t...  1206312451442126849   \n",
       "15  Had a little visitor in the office today, unti...  1206303781648027648   \n",
       "16  Pathetic customer service by @Zongers - your c...  1206217311524458497   \n",
       "17  Stuck at home with a vile 12 year old is exact...  1205875604014485504   \n",
       "0   @swiggy_in Black chapati?? Is that a new breed...  1208447263103574016   \n",
       "1   @JustEatUK does anyone in your customer suppor...  1208418271642488832   \n",
       "2   Just in case you're curious, this is what #Cup...  1208130886891376642   \n",
       "3   @Wendys I bought a grilled chicken Caesar sala...  1208115368759308288   \n",
       "4   My last four orders have been terrible, cold, ...  1207572977203597313   \n",
       "5   @Deliveroo @DeliverooHelp says they can’t offe...  1206853357123575818   \n",
       "6   @7elevencares ummmm....I usually love your sal...  1206670692135120896   \n",
       "7   @7eleven ummmm....I usually love your salad.. ...  1206668954443419648   \n",
       "8   Worst food from swiggy...bad experience  @Swig...  1206630997531357184   \n",
       "9   @SwiggyCares Do you even care to reply? #Badfo...  1206261821302161408   \n",
       "10  @ZomatoIN This is the quality of food I receiv...  1205924460634628097   \n",
       "11  Which one are you? \\n•\\n•\\n•\\n#dad #dadaf #dad...  1205924223270686722   \n",
       "12  @swiggy_in This is the quality of food I recei...  1205924176030076928   \n",
       "\n",
       "                                            full_text     label  \n",
       "0   Entering our 4th day along with a whole swathe...   #nowifi  \n",
       "1   I wish twitter was on FreeBasics...\\n😫😩😫😩😫\\n#L...   #nowifi  \n",
       "2   Check your phone or tablet. If they cant conn...   #nowifi  \n",
       "3   . @SkyHelpTeam I’m enjoying the irony #NoWiFi ...   #nowifi  \n",
       "4   @SkyHelpTeam I’m enjoying the irony #noWiFi ht...   #nowifi  \n",
       "5   @mortenmorland @virginmedia Same here in New M...   #nowifi  \n",
       "6   I thought the bay area was uber tech 🤷🏼‍♂️ #no...   #nowifi  \n",
       "7   Did that on Monday, i dont know what is going ...   #nowifi  \n",
       "8   @OfSelina No chance, unless you’re Christmasin...   #nowifi  \n",
       "9   Check your phone or tablet. If they cant conn...   #nowifi  \n",
       "10  @rickoshea Yes - home to Cavan for Christmas i...   #nowifi  \n",
       "11  Welcome to the Stone Age on board @TLRailUK 16...   #nowifi  \n",
       "12  He’s going to hook up a DVD player so I can wa...   #nowifi  \n",
       "13  Turn your router and modem off and back on aga...   #nowifi  \n",
       "14  @homegoods Your wifi is atrocious- oh wait - t...   #nowifi  \n",
       "15  Had a little visitor in the office today, unti...   #nowifi  \n",
       "16  Pathetic customer service by @Zongers - your c...   #nowifi  \n",
       "17  Stuck at home with a vile 12 year old is exact...   #nowifi  \n",
       "0   @swiggy_in Black chapati?? Is that a new breed...  #badfood  \n",
       "1   @JustEatUK does anyone in your customer suppor...  #badfood  \n",
       "2   Just in case you're curious, this is what #Cup...  #badfood  \n",
       "3   @Wendys I bought a grilled chicken Caesar sala...  #badfood  \n",
       "4   My last four orders have been terrible, cold, ...  #badfood  \n",
       "5   @Deliveroo @DeliverooHelp says they can’t offe...  #badfood  \n",
       "6   @7elevencares ummmm....I usually love your sal...  #badfood  \n",
       "7   @7eleven ummmm....I usually love your salad.. ...  #badfood  \n",
       "8   Worst food from swiggy...bad experience  @Swig...  #badfood  \n",
       "9   @SwiggyCares Do you even care to reply? #Badfo...  #badfood  \n",
       "10  @ZomatoIN This is the quality of food I receiv...  #badfood  \n",
       "11  Which one are you? \\n•\\n•\\n•\\n#dad #dadaf #dad...  #badfood  \n",
       "12  @swiggy_in This is the quality of food I recei...  #badfood  "
      ]
     },
     "execution_count": 10,
     "metadata": {},
     "output_type": "execute_result"
    }
   ],
   "source": [
    "full_df"
   ]
  },
  {
   "cell_type": "code",
   "execution_count": 13,
   "metadata": {},
   "outputs": [],
   "source": [
    "final_df = full_df[[\"text\", \"label\"]]"
   ]
  },
  {
   "cell_type": "code",
   "execution_count": 14,
   "metadata": {},
   "outputs": [],
   "source": [
    "final_df.to_csv(\"dataset.csv\")"
   ]
  },
  {
   "cell_type": "code",
   "execution_count": null,
   "metadata": {},
   "outputs": [],
   "source": []
  }
 ],
 "metadata": {
  "kernelspec": {
   "display_name": "Python 3",
   "language": "python",
   "name": "python3"
  },
  "language_info": {
   "codemirror_mode": {
    "name": "ipython",
    "version": 3
   },
   "file_extension": ".py",
   "mimetype": "text/x-python",
   "name": "python",
   "nbconvert_exporter": "python",
   "pygments_lexer": "ipython3",
   "version": "3.7.5"
  }
 },
 "nbformat": 4,
 "nbformat_minor": 2
}
