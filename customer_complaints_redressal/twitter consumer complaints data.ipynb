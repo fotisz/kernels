{
 "cells": [
  {
   "cell_type": "markdown",
   "metadata": {},
   "source": [
    "reference https://www.earthdatascience.org/courses/earth-analytics-python/using-apis-natural-language-processing-twitter/get-and-use-twitter-data-in-python/"
   ]
  },
  {
   "cell_type": "code",
   "execution_count": 1,
   "metadata": {},
   "outputs": [],
   "source": [
    "import os\n",
    "import tweepy as tw\n",
    "import pandas as pd"
   ]
  },
  {
   "cell_type": "code",
   "execution_count": 2,
   "metadata": {},
   "outputs": [],
   "source": [
    "####input your credentials here\n",
    "consumer_key = os.environ['consumer_key']\n",
    "consumer_secret = os.environ['consumer_secret']\n",
    "access_token = os.environ['access_token']\n",
    "access_token_secret = os.environ['access_token_secret']"
   ]
  },
  {
   "cell_type": "code",
   "execution_count": 3,
   "metadata": {},
   "outputs": [],
   "source": [
    "auth = tw.OAuthHandler(consumer_key, consumer_secret)\n",
    "auth.set_access_token(access_token, access_token_secret)\n",
    "api = tw.API(auth, wait_on_rate_limit=True)"
   ]
  },
  {
   "cell_type": "code",
   "execution_count": 4,
   "metadata": {},
   "outputs": [],
   "source": [
    "search_words = \"#badservice\"\n",
    "date_since = \"2019-12-10\""
   ]
  },
  {
   "cell_type": "code",
   "execution_count": 5,
   "metadata": {},
   "outputs": [
    {
     "name": "stdout",
     "output_type": "stream",
     "text": [
      "Sat Dec 14 10:05:59 IST 2019\r\n"
     ]
    }
   ],
   "source": [
    "!date"
   ]
  },
  {
   "cell_type": "code",
   "execution_count": 7,
   "metadata": {},
   "outputs": [
    {
     "name": "stdout",
     "output_type": "stream",
     "text": [
      "<tweepy.cursor.ItemIterator object at 0x11fc084d0>\n"
     ]
    }
   ],
   "source": [
    "# Collect tweets\n",
    "tweets = tw.Cursor(api.search,\n",
    "              q=search_words,\n",
    "              lang=\"en\",\n",
    "              since=date_since).items(5)\n",
    "print(tweets)"
   ]
  },
  {
   "cell_type": "code",
   "execution_count": 8,
   "metadata": {},
   "outputs": [
    {
     "name": "stdout",
     "output_type": "stream",
     "text": [
      "@kirklands More than 24 hours since I left the DM you requested.  No response.  Your customer service is atrocious.… https://t.co/clSygy6A9X\n",
      "@EBGamesCanada so....I have never been in one of your stores so it was confusing as a non gamer.\n",
      "The kid that helpe… https://t.co/OOdaVfzz3N\n",
      "@Chime I sent you a bunch of information, however after reviewing the information I realized that your reps are inv… https://t.co/bFOV6o0d2b\n",
      "@financialombuds we are still waiting for our claim to be finalised after 7 weeks and NO contact from… https://t.co/LEz3AtFOWC\n"
     ]
    }
   ],
   "source": [
    "# Collect tweets\n",
    "tweets = tw.Cursor(api.search,\n",
    "              q=search_words,\n",
    "              lang=\"en\",\n",
    "              since=date_since).items(5)\n",
    "\n",
    "# Iterate and print tweets\n",
    "for tweet in tweets:\n",
    "    print(tweet.text)"
   ]
  },
  {
   "cell_type": "code",
   "execution_count": 9,
   "metadata": {},
   "outputs": [
    {
     "data": {
      "text/plain": [
       "['@kirklands More than 24 hours since I left the DM you requested.  No response.  Your customer service is atrocious.… https://t.co/clSygy6A9X',\n",
       " '@EBGamesCanada so....I have never been in one of your stores so it was confusing as a non gamer.\\nThe kid that helpe… https://t.co/OOdaVfzz3N',\n",
       " '@Chime I sent you a bunch of information, however after reviewing the information I realized that your reps are inv… https://t.co/bFOV6o0d2b',\n",
       " '@financialombuds we are still waiting for our claim to be finalised after 7 weeks and NO contact from… https://t.co/LEz3AtFOWC']"
      ]
     },
     "execution_count": 9,
     "metadata": {},
     "output_type": "execute_result"
    }
   ],
   "source": [
    "# Collect tweets\n",
    "tweets = tw.Cursor(api.search,\n",
    "                       q=search_words,\n",
    "                       lang=\"en\",\n",
    "                       since=date_since).items(5)\n",
    "\n",
    "# Collect a list of tweets\n",
    "[tweet.text for tweet in tweets]"
   ]
  },
  {
   "cell_type": "code",
   "execution_count": 10,
   "metadata": {},
   "outputs": [
    {
     "data": {
      "text/plain": [
       "'#badservice -filter:retweets'"
      ]
     },
     "execution_count": 10,
     "metadata": {},
     "output_type": "execute_result"
    }
   ],
   "source": [
    "new_search = search_words + \" -filter:retweets\"\n",
    "new_search"
   ]
  },
  {
   "cell_type": "code",
   "execution_count": 11,
   "metadata": {},
   "outputs": [
    {
     "data": {
      "text/plain": [
       "['@kirklands More than 24 hours since I left the DM you requested.  No response.  Your customer service is atrocious.… https://t.co/clSygy6A9X',\n",
       " '@EBGamesCanada so....I have never been in one of your stores so it was confusing as a non gamer.\\nThe kid that helpe… https://t.co/OOdaVfzz3N',\n",
       " '@Chime I sent you a bunch of information, however after reviewing the information I realized that your reps are inv… https://t.co/bFOV6o0d2b',\n",
       " '@financialombuds we are still waiting for our claim to be finalised after 7 weeks and NO contact from… https://t.co/LEz3AtFOWC']"
      ]
     },
     "execution_count": 11,
     "metadata": {},
     "output_type": "execute_result"
    }
   ],
   "source": [
    "tweets = tw.Cursor(api.search,\n",
    "                       q=new_search,\n",
    "                       lang=\"en\",\n",
    "                       since=date_since).items(5)\n",
    "\n",
    "[tweet.text for tweet in tweets]"
   ]
  },
  {
   "cell_type": "code",
   "execution_count": 26,
   "metadata": {},
   "outputs": [],
   "source": [
    "tweets = tw.Cursor(api.search, \n",
    "                           q=new_search,\n",
    "                           lang=\"en\",\n",
    "                           since=date_since).items(5)\n",
    "\n",
    "users_locs = [[tweet.user.screen_name, tweet.user.location, tweet.text, tweet.id] for tweet in tweets]"
   ]
  },
  {
   "cell_type": "code",
   "execution_count": 27,
   "metadata": {},
   "outputs": [
    {
     "data": {
      "text/plain": [
       "[['SreedharBukya',\n",
       "  'Hyderabad, India',\n",
       "  '@apollomunichins It is very sad that your team unable to renew my insurance because of your employee negligence of… https://t.co/qgbmiOycfC',\n",
       "  1205696371048583168],\n",
       " ['claire_s40',\n",
       "  'Southern California',\n",
       "  '@kirklands More than 24 hours since I left the DM you requested.  No response.  Your customer service is atrocious.… https://t.co/clSygy6A9X',\n",
       "  1205684528372576256],\n",
       " ['LoriSweeney10',\n",
       "  'Ontario',\n",
       "  '@EBGamesCanada so....I have never been in one of your stores so it was confusing as a non gamer.\\nThe kid that helpe… https://t.co/OOdaVfzz3N',\n",
       "  1205647948761223168],\n",
       " ['Koa_aloha',\n",
       "  '',\n",
       "  '@Chime I sent you a bunch of information, however after reviewing the information I realized that your reps are inv… https://t.co/bFOV6o0d2b',\n",
       "  1205643710836416513],\n",
       " ['Spook_asem',\n",
       "  'Glasgow, Scotland',\n",
       "  '@financialombuds we are still waiting for our claim to be finalised after 7 weeks and NO contact from… https://t.co/LEz3AtFOWC',\n",
       "  1205641236935315461]]"
      ]
     },
     "execution_count": 27,
     "metadata": {},
     "output_type": "execute_result"
    }
   ],
   "source": [
    "users_locs"
   ]
  },
  {
   "cell_type": "code",
   "execution_count": 28,
   "metadata": {},
   "outputs": [],
   "source": [
    "a = api.get_status(1205696371048583168, tweet_mode='extended')"
   ]
  },
  {
   "cell_type": "code",
   "execution_count": 29,
   "metadata": {},
   "outputs": [
    {
     "data": {
      "text/plain": [
       "\"@apollomunichins It is very sad that your team unable to renew my insurance because of your employee negligence of handling the process and coming with excuse head office team didn't do their job. This is all after you take payment. \\n #CustomerExperience #frustrated #badservice\""
      ]
     },
     "execution_count": 29,
     "metadata": {},
     "output_type": "execute_result"
    }
   ],
   "source": [
    "a.full_text"
   ]
  },
  {
   "cell_type": "code",
   "execution_count": null,
   "metadata": {},
   "outputs": [],
   "source": []
  },
  {
   "cell_type": "code",
   "execution_count": null,
   "metadata": {},
   "outputs": [],
   "source": []
  },
  {
   "cell_type": "code",
   "execution_count": 30,
   "metadata": {},
   "outputs": [],
   "source": [
    "tweets = tw.Cursor(api.search, \n",
    "                           q=new_search,\n",
    "                           lang=\"en\",\n",
    "                           since=date_since).items(200)\n",
    "\n",
    "users_locs = [[tweet.user.screen_name, tweet.user.location, tweet.text, tweet.id] for tweet in tweets]"
   ]
  },
  {
   "cell_type": "code",
   "execution_count": 31,
   "metadata": {},
   "outputs": [
    {
     "data": {
      "text/html": [
       "<div>\n",
       "<style scoped>\n",
       "    .dataframe tbody tr th:only-of-type {\n",
       "        vertical-align: middle;\n",
       "    }\n",
       "\n",
       "    .dataframe tbody tr th {\n",
       "        vertical-align: top;\n",
       "    }\n",
       "\n",
       "    .dataframe thead th {\n",
       "        text-align: right;\n",
       "    }\n",
       "</style>\n",
       "<table border=\"1\" class=\"dataframe\">\n",
       "  <thead>\n",
       "    <tr style=\"text-align: right;\">\n",
       "      <th></th>\n",
       "      <th>user</th>\n",
       "      <th>location</th>\n",
       "      <th>text</th>\n",
       "      <th>id</th>\n",
       "    </tr>\n",
       "  </thead>\n",
       "  <tbody>\n",
       "    <tr>\n",
       "      <th>0</th>\n",
       "      <td>SreedharBukya</td>\n",
       "      <td>Hyderabad, India</td>\n",
       "      <td>@apollomunichins It is very sad that your team...</td>\n",
       "      <td>1205696371048583168</td>\n",
       "    </tr>\n",
       "    <tr>\n",
       "      <th>1</th>\n",
       "      <td>claire_s40</td>\n",
       "      <td>Southern California</td>\n",
       "      <td>@kirklands More than 24 hours since I left the...</td>\n",
       "      <td>1205684528372576256</td>\n",
       "    </tr>\n",
       "    <tr>\n",
       "      <th>2</th>\n",
       "      <td>LoriSweeney10</td>\n",
       "      <td>Ontario</td>\n",
       "      <td>@EBGamesCanada so....I have never been in one ...</td>\n",
       "      <td>1205647948761223168</td>\n",
       "    </tr>\n",
       "    <tr>\n",
       "      <th>3</th>\n",
       "      <td>Koa_aloha</td>\n",
       "      <td></td>\n",
       "      <td>@Chime I sent you a bunch of information, howe...</td>\n",
       "      <td>1205643710836416513</td>\n",
       "    </tr>\n",
       "    <tr>\n",
       "      <th>4</th>\n",
       "      <td>Spook_asem</td>\n",
       "      <td>Glasgow, Scotland</td>\n",
       "      <td>@financialombuds we are still waiting for our ...</td>\n",
       "      <td>1205641236935315461</td>\n",
       "    </tr>\n",
       "    <tr>\n",
       "      <th>...</th>\n",
       "      <td>...</td>\n",
       "      <td>...</td>\n",
       "      <td>...</td>\n",
       "      <td>...</td>\n",
       "    </tr>\n",
       "    <tr>\n",
       "      <th>195</th>\n",
       "      <td>akshitlakhani2</td>\n",
       "      <td></td>\n",
       "      <td>@UberEats_IND\\nI ordered food two day ago and ...</td>\n",
       "      <td>1204773628081885184</td>\n",
       "    </tr>\n",
       "    <tr>\n",
       "      <th>196</th>\n",
       "      <td>akshitlakhani2</td>\n",
       "      <td></td>\n",
       "      <td>@UberEats \\nI ordered food two day ago and mad...</td>\n",
       "      <td>1204771995893649408</td>\n",
       "    </tr>\n",
       "    <tr>\n",
       "      <th>197</th>\n",
       "      <td>laird_matt</td>\n",
       "      <td>coventry</td>\n",
       "      <td>@IWOOT_CS @iwoot @Hermesparcels I’m not sure w...</td>\n",
       "      <td>1204768101507698689</td>\n",
       "    </tr>\n",
       "    <tr>\n",
       "      <th>198</th>\n",
       "      <td>shawsey81</td>\n",
       "      <td>Brum</td>\n",
       "      <td>@Hermesparcels not impressed by your service, ...</td>\n",
       "      <td>1204767535276732417</td>\n",
       "    </tr>\n",
       "    <tr>\n",
       "      <th>199</th>\n",
       "      <td>neozizo235</td>\n",
       "      <td>Johannesburg, South Africa</td>\n",
       "      <td>@VoxTelecom I’ve been calling Vox for the past...</td>\n",
       "      <td>1204767074117132288</td>\n",
       "    </tr>\n",
       "  </tbody>\n",
       "</table>\n",
       "<p>200 rows × 4 columns</p>\n",
       "</div>"
      ],
      "text/plain": [
       "               user                    location  \\\n",
       "0     SreedharBukya            Hyderabad, India   \n",
       "1        claire_s40         Southern California   \n",
       "2     LoriSweeney10                     Ontario   \n",
       "3         Koa_aloha                               \n",
       "4        Spook_asem           Glasgow, Scotland   \n",
       "..              ...                         ...   \n",
       "195  akshitlakhani2                               \n",
       "196  akshitlakhani2                               \n",
       "197      laird_matt                    coventry   \n",
       "198       shawsey81                        Brum   \n",
       "199      neozizo235  Johannesburg, South Africa   \n",
       "\n",
       "                                                  text                   id  \n",
       "0    @apollomunichins It is very sad that your team...  1205696371048583168  \n",
       "1    @kirklands More than 24 hours since I left the...  1205684528372576256  \n",
       "2    @EBGamesCanada so....I have never been in one ...  1205647948761223168  \n",
       "3    @Chime I sent you a bunch of information, howe...  1205643710836416513  \n",
       "4    @financialombuds we are still waiting for our ...  1205641236935315461  \n",
       "..                                                 ...                  ...  \n",
       "195  @UberEats_IND\\nI ordered food two day ago and ...  1204773628081885184  \n",
       "196  @UberEats \\nI ordered food two day ago and mad...  1204771995893649408  \n",
       "197  @IWOOT_CS @iwoot @Hermesparcels I’m not sure w...  1204768101507698689  \n",
       "198  @Hermesparcels not impressed by your service, ...  1204767535276732417  \n",
       "199  @VoxTelecom I’ve been calling Vox for the past...  1204767074117132288  \n",
       "\n",
       "[200 rows x 4 columns]"
      ]
     },
     "execution_count": 31,
     "metadata": {},
     "output_type": "execute_result"
    }
   ],
   "source": [
    "tweet_text = pd.DataFrame(data=users_locs, \n",
    "                    columns=['user', \"location\", \"text\", \"id\"])"
   ]
  },
  {
   "cell_type": "code",
   "execution_count": 32,
   "metadata": {},
   "outputs": [
    {
     "data": {
      "text/html": [
       "<div>\n",
       "<style scoped>\n",
       "    .dataframe tbody tr th:only-of-type {\n",
       "        vertical-align: middle;\n",
       "    }\n",
       "\n",
       "    .dataframe tbody tr th {\n",
       "        vertical-align: top;\n",
       "    }\n",
       "\n",
       "    .dataframe thead th {\n",
       "        text-align: right;\n",
       "    }\n",
       "</style>\n",
       "<table border=\"1\" class=\"dataframe\">\n",
       "  <thead>\n",
       "    <tr style=\"text-align: right;\">\n",
       "      <th></th>\n",
       "      <th>user</th>\n",
       "      <th>location</th>\n",
       "      <th>text</th>\n",
       "      <th>id</th>\n",
       "    </tr>\n",
       "  </thead>\n",
       "  <tbody>\n",
       "    <tr>\n",
       "      <th>0</th>\n",
       "      <td>SreedharBukya</td>\n",
       "      <td>Hyderabad, India</td>\n",
       "      <td>@apollomunichins It is very sad that your team...</td>\n",
       "      <td>1205696371048583168</td>\n",
       "    </tr>\n",
       "    <tr>\n",
       "      <th>1</th>\n",
       "      <td>claire_s40</td>\n",
       "      <td>Southern California</td>\n",
       "      <td>@kirklands More than 24 hours since I left the...</td>\n",
       "      <td>1205684528372576256</td>\n",
       "    </tr>\n",
       "    <tr>\n",
       "      <th>2</th>\n",
       "      <td>LoriSweeney10</td>\n",
       "      <td>Ontario</td>\n",
       "      <td>@EBGamesCanada so....I have never been in one ...</td>\n",
       "      <td>1205647948761223168</td>\n",
       "    </tr>\n",
       "    <tr>\n",
       "      <th>3</th>\n",
       "      <td>Koa_aloha</td>\n",
       "      <td></td>\n",
       "      <td>@Chime I sent you a bunch of information, howe...</td>\n",
       "      <td>1205643710836416513</td>\n",
       "    </tr>\n",
       "    <tr>\n",
       "      <th>4</th>\n",
       "      <td>Spook_asem</td>\n",
       "      <td>Glasgow, Scotland</td>\n",
       "      <td>@financialombuds we are still waiting for our ...</td>\n",
       "      <td>1205641236935315461</td>\n",
       "    </tr>\n",
       "  </tbody>\n",
       "</table>\n",
       "</div>"
      ],
      "text/plain": [
       "            user             location  \\\n",
       "0  SreedharBukya     Hyderabad, India   \n",
       "1     claire_s40  Southern California   \n",
       "2  LoriSweeney10              Ontario   \n",
       "3      Koa_aloha                        \n",
       "4     Spook_asem    Glasgow, Scotland   \n",
       "\n",
       "                                                text                   id  \n",
       "0  @apollomunichins It is very sad that your team...  1205696371048583168  \n",
       "1  @kirklands More than 24 hours since I left the...  1205684528372576256  \n",
       "2  @EBGamesCanada so....I have never been in one ...  1205647948761223168  \n",
       "3  @Chime I sent you a bunch of information, howe...  1205643710836416513  \n",
       "4  @financialombuds we are still waiting for our ...  1205641236935315461  "
      ]
     },
     "execution_count": 32,
     "metadata": {},
     "output_type": "execute_result"
    }
   ],
   "source": [
    "tweet_text.head()"
   ]
  },
  {
   "cell_type": "code",
   "execution_count": 33,
   "metadata": {},
   "outputs": [],
   "source": [
    "%%time\n",
    "\n",
    "tweet_text['full_text'] = tweet_text['id'].apply(lambda x: api.get_status(x, tweet_mode='extended').full_text)"
   ]
  },
  {
   "cell_type": "code",
   "execution_count": 34,
   "metadata": {},
   "outputs": [
    {
     "data": {
      "text/html": [
       "<div>\n",
       "<style scoped>\n",
       "    .dataframe tbody tr th:only-of-type {\n",
       "        vertical-align: middle;\n",
       "    }\n",
       "\n",
       "    .dataframe tbody tr th {\n",
       "        vertical-align: top;\n",
       "    }\n",
       "\n",
       "    .dataframe thead th {\n",
       "        text-align: right;\n",
       "    }\n",
       "</style>\n",
       "<table border=\"1\" class=\"dataframe\">\n",
       "  <thead>\n",
       "    <tr style=\"text-align: right;\">\n",
       "      <th></th>\n",
       "      <th>user</th>\n",
       "      <th>location</th>\n",
       "      <th>text</th>\n",
       "      <th>id</th>\n",
       "      <th>full_text</th>\n",
       "    </tr>\n",
       "  </thead>\n",
       "  <tbody>\n",
       "    <tr>\n",
       "      <th>0</th>\n",
       "      <td>SreedharBukya</td>\n",
       "      <td>Hyderabad, India</td>\n",
       "      <td>@apollomunichins It is very sad that your team...</td>\n",
       "      <td>1205696371048583168</td>\n",
       "      <td>@apollomunichins It is very sad that your team...</td>\n",
       "    </tr>\n",
       "    <tr>\n",
       "      <th>1</th>\n",
       "      <td>claire_s40</td>\n",
       "      <td>Southern California</td>\n",
       "      <td>@kirklands More than 24 hours since I left the...</td>\n",
       "      <td>1205684528372576256</td>\n",
       "      <td>@kirklands More than 24 hours since I left the...</td>\n",
       "    </tr>\n",
       "    <tr>\n",
       "      <th>2</th>\n",
       "      <td>LoriSweeney10</td>\n",
       "      <td>Ontario</td>\n",
       "      <td>@EBGamesCanada so....I have never been in one ...</td>\n",
       "      <td>1205647948761223168</td>\n",
       "      <td>@EBGamesCanada so....I have never been in one ...</td>\n",
       "    </tr>\n",
       "    <tr>\n",
       "      <th>3</th>\n",
       "      <td>Koa_aloha</td>\n",
       "      <td></td>\n",
       "      <td>@Chime I sent you a bunch of information, howe...</td>\n",
       "      <td>1205643710836416513</td>\n",
       "      <td>@Chime I sent you a bunch of information, howe...</td>\n",
       "    </tr>\n",
       "    <tr>\n",
       "      <th>4</th>\n",
       "      <td>Spook_asem</td>\n",
       "      <td>Glasgow, Scotland</td>\n",
       "      <td>@financialombuds we are still waiting for our ...</td>\n",
       "      <td>1205641236935315461</td>\n",
       "      <td>@financialombuds we are still waiting for our ...</td>\n",
       "    </tr>\n",
       "  </tbody>\n",
       "</table>\n",
       "</div>"
      ],
      "text/plain": [
       "            user             location  \\\n",
       "0  SreedharBukya     Hyderabad, India   \n",
       "1     claire_s40  Southern California   \n",
       "2  LoriSweeney10              Ontario   \n",
       "3      Koa_aloha                        \n",
       "4     Spook_asem    Glasgow, Scotland   \n",
       "\n",
       "                                                text                   id  \\\n",
       "0  @apollomunichins It is very sad that your team...  1205696371048583168   \n",
       "1  @kirklands More than 24 hours since I left the...  1205684528372576256   \n",
       "2  @EBGamesCanada so....I have never been in one ...  1205647948761223168   \n",
       "3  @Chime I sent you a bunch of information, howe...  1205643710836416513   \n",
       "4  @financialombuds we are still waiting for our ...  1205641236935315461   \n",
       "\n",
       "                                           full_text  \n",
       "0  @apollomunichins It is very sad that your team...  \n",
       "1  @kirklands More than 24 hours since I left the...  \n",
       "2  @EBGamesCanada so....I have never been in one ...  \n",
       "3  @Chime I sent you a bunch of information, howe...  \n",
       "4  @financialombuds we are still waiting for our ...  "
      ]
     },
     "execution_count": 34,
     "metadata": {},
     "output_type": "execute_result"
    }
   ],
   "source": [
    "tweet_text.head()"
   ]
  },
  {
   "cell_type": "code",
   "execution_count": 35,
   "metadata": {},
   "outputs": [
    {
     "data": {
      "text/plain": [
       "(200, 5)"
      ]
     },
     "execution_count": 35,
     "metadata": {},
     "output_type": "execute_result"
    }
   ],
   "source": [
    "tweet_text.shape"
   ]
  },
  {
   "cell_type": "code",
   "execution_count": 36,
   "metadata": {},
   "outputs": [],
   "source": [
    "tweet_text.to_csv('consumer_complaints.csv')"
   ]
  },
  {
   "cell_type": "code",
   "execution_count": null,
   "metadata": {},
   "outputs": [],
   "source": []
  }
 ],
 "metadata": {
  "kernelspec": {
   "display_name": "Python 3",
   "language": "python",
   "name": "python3"
  },
  "language_info": {
   "codemirror_mode": {
    "name": "ipython",
    "version": 3
   },
   "file_extension": ".py",
   "mimetype": "text/x-python",
   "name": "python",
   "nbconvert_exporter": "python",
   "pygments_lexer": "ipython3",
   "version": "3.7.5"
  }
 },
 "nbformat": 4,
 "nbformat_minor": 2
}
